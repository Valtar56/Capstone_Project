{
  "nbformat": 4,
  "nbformat_minor": 0,
  "metadata": {
    "colab": {
      "name": "Postal codes Capstone.ipynb",
      "provenance": [],
      "toc_visible": true
    },
    "kernelspec": {
      "name": "python3",
      "display_name": "Python 3"
    }
  },
  "cells": [
    {
      "cell_type": "code",
      "metadata": {
        "id": "smrJZG1Lx97o",
        "colab_type": "code",
        "colab": {}
      },
      "source": [
        "import pandas as pd\n",
        "import numpy as np \n",
        "from bs4 import BeautifulSoup as bs\n",
        "import requests as req"
      ],
      "execution_count": 5,
      "outputs": []
    },
    {
      "cell_type": "markdown",
      "metadata": {
        "id": "iMyfHw_S2tUd",
        "colab_type": "text"
      },
      "source": [
        "**Scraping Data From Website**"
      ]
    },
    {
      "cell_type": "code",
      "metadata": {
        "id": "7gwkFp7H2s-V",
        "colab_type": "code",
        "colab": {}
      },
      "source": [
        "url = \"https://en.wikipedia.org/wiki/List_of_postal_codes_of_Canada:_M\"\n",
        "web = req.get(url)"
      ],
      "execution_count": 7,
      "outputs": []
    },
    {
      "cell_type": "markdown",
      "metadata": {
        "id": "nRc2KOp33H3M",
        "colab_type": "text"
      },
      "source": [
        "**Checking if data has been scraped from website**"
      ]
    },
    {
      "cell_type": "code",
      "metadata": {
        "id": "VzEvhWCv3HZc",
        "colab_type": "code",
        "colab": {
          "base_uri": "https://localhost:8080/",
          "height": 34
        },
        "outputId": "19d7e7e0-d0e3-476a-aea0-90dcba86e7e3"
      },
      "source": [
        "web.status_code"
      ],
      "execution_count": 8,
      "outputs": [
        {
          "output_type": "execute_result",
          "data": {
            "text/plain": [
              "200"
            ]
          },
          "metadata": {
            "tags": []
          },
          "execution_count": 8
        }
      ]
    },
    {
      "cell_type": "markdown",
      "metadata": {
        "id": "O_deIStg1RWn",
        "colab_type": "text"
      },
      "source": [
        "**Extracting the content of the scraped data**"
      ]
    },
    {
      "cell_type": "code",
      "metadata": {
        "id": "9b3sosY42ZJx",
        "colab_type": "code",
        "colab": {
          "base_uri": "https://localhost:8080/",
          "height": 54
        },
        "outputId": "eac1289d-3f0c-4c9c-8c29-d67d96d7263a"
      },
      "source": [
        "content = web.content\n",
        "content"
      ],
      "execution_count": 10,
      "outputs": [
        {
          "output_type": "execute_result",
          "data": {
            "text/plain": [
              "b'<!DOCTYPE html>\\n<html class=\"client-nojs\" lang=\"en\" dir=\"ltr\">\\n<head>\\n<meta charset=\"UTF-8\"/>\\n<title>List of postal codes of Canada: M - Wikipedia</title>\\n<script>document.documentElement.className=\"client-js\";RLCONF={\"wgBreakFrames\":!1,\"wgSeparatorTransformTable\":[\"\",\"\"],\"wgDigitTransformTable\":[\"\",\"\"],\"wgDefaultDateFormat\":\"dmy\",\"wgMonthNames\":[\"\",\"January\",\"February\",\"March\",\"April\",\"May\",\"June\",\"July\",\"August\",\"September\",\"October\",\"November\",\"December\"],\"wgRequestId\":\"ff1dbaab-0815-40f9-9a0d-4f9528406a80\",\"wgCSPNonce\":!1,\"wgCanonicalNamespace\":\"\",\"wgCanonicalSpecialPageName\":!1,\"wgNamespaceNumber\":0,\"wgPageName\":\"List_of_postal_codes_of_Canada:_M\",\"wgTitle\":\"List of postal codes of Canada: M\",\"wgCurRevisionId\":969510799,\"wgRevisionId\":969510799,\"wgArticleId\":539066,\"wgIsArticle\":!0,\"wgIsRedirect\":!1,\"wgAction\":\"view\",\"wgUserName\":null,\"wgUserGroups\":[\"*\"],\"wgCategories\":[\"Articles with short description\",\"Short description is different from Wikidata\",\"Communications in Ontario\",\"Postal codes in Canada\",\"Toronto\",\"Ontario-related lists\"],\"wgPageContentLanguage\":\"en\",\"wgPageContentModel\":\"wikitext\",\"wgRelevantPageName\":\\n\"List_of_postal_codes_of_Canada:_M\",\"wgRelevantArticleId\":539066,\"wgIsProbablyEditable\":!0,\"wgRelevantPageIsProbablyEditable\":!0,\"wgRestrictionEdit\":[],\"wgRestrictionMove\":[],\"wgMediaViewerOnClick\":!0,\"wgMediaViewerEnabledByDefault\":!0,\"wgPopupsReferencePreviews\":!1,\"wgPopupsConflictsWithNavPopupGadget\":!1,\"wgVisualEditor\":{\"pageLanguageCode\":\"en\",\"pageLanguageDir\":\"ltr\",\"pageVariantFallbacks\":\"en\"},\"wgMFDisplayWikibaseDescriptions\":{\"search\":!0,\"nearby\":!0,\"watchlist\":!0,\"tagline\":!1},\"wgWMESchemaEditAttemptStepOversample\":!1,\"wgULSCurrentAutonym\":\"English\",\"wgNoticeProject\":\"wikipedia\",\"wgCentralAuthMobileDomain\":!1,\"wgEditSubmitButtonLabelPublish\":!0,\"wgULSPosition\":\"interlanguage\",\"wgWikibaseItemId\":\"Q3248240\"};RLSTATE={\"ext.globalCssJs.user.styles\":\"ready\",\"site.styles\":\"ready\",\"noscript\":\"ready\",\"user.styles\":\"ready\",\"ext.globalCssJs.user\":\"ready\",\"user\":\"ready\",\"user.options\":\"loading\",\"ext.cite.styles\":\"ready\",\"skins.vector.styles.legacy\":\"ready\",\\n\"jquery.tablesorter.styles\":\"ready\",\"ext.visualEditor.desktopArticleTarget.noscript\":\"ready\",\"ext.uls.interlanguage\":\"ready\",\"ext.wikimediaBadges\":\"ready\",\"wikibase.client.init\":\"ready\"};RLPAGEMODULES=[\"ext.cite.ux-enhancements\",\"site\",\"mediawiki.page.startup\",\"mediawiki.page.ready\",\"jquery.tablesorter\",\"skins.vector.legacy.js\",\"ext.gadget.ReferenceTooltips\",\"ext.gadget.charinsert\",\"ext.gadget.extra-toolbar-buttons\",\"ext.gadget.refToolbar\",\"ext.gadget.switcher\",\"ext.centralauth.centralautologin\",\"mmv.head\",\"mmv.bootstrap.autostart\",\"ext.popups\",\"ext.visualEditor.desktopArticleTarget.init\",\"ext.visualEditor.targetLoader\",\"ext.eventLogging\",\"ext.wikimediaEvents\",\"ext.navigationTiming\",\"ext.uls.compactlinks\",\"ext.uls.interface\",\"ext.cx.eventlogging.campaigns\",\"ext.quicksurveys.init\",\"ext.centralNotice.geoIP\",\"ext.centralNotice.startUp\"];</script>\\n<script>(RLQ=window.RLQ||[]).push(function(){mw.loader.implement(\"user.options@1hzgi\",function($,jQuery,require,module){/*@nomin*/mw.user.tokens.set({\"patrolToken\":\"+\\\\\\\\\",\"watchToken\":\"+\\\\\\\\\",\"csrfToken\":\"+\\\\\\\\\"});\\n});});</script>\\n<link rel=\"stylesheet\" href=\"/w/load.php?lang=en&amp;modules=ext.cite.styles%7Cext.uls.interlanguage%7Cext.visualEditor.desktopArticleTarget.noscript%7Cext.wikimediaBadges%7Cjquery.tablesorter.styles%7Cskins.vector.styles.legacy%7Cwikibase.client.init&amp;only=styles&amp;skin=vector\"/>\\n<script async=\"\" src=\"/w/load.php?lang=en&amp;modules=startup&amp;only=scripts&amp;raw=1&amp;skin=vector\"></script>\\n<meta name=\"ResourceLoaderDynamicStyles\" content=\"\"/>\\n<link rel=\"stylesheet\" href=\"/w/load.php?lang=en&amp;modules=site.styles&amp;only=styles&amp;skin=vector\"/>\\n<meta name=\"generator\" content=\"MediaWiki 1.36.0-wmf.3\"/>\\n<meta name=\"referrer\" content=\"origin\"/>\\n<meta name=\"referrer\" content=\"origin-when-crossorigin\"/>\\n<meta name=\"referrer\" content=\"origin-when-cross-origin\"/>\\n<link rel=\"alternate\" type=\"application/x-wiki\" title=\"Edit this page\" href=\"/w/index.php?title=List_of_postal_codes_of_Canada:_M&amp;action=edit\"/>\\n<link rel=\"edit\" title=\"Edit this page\" href=\"/w/index.php?title=List_of_postal_codes_of_Canada:_M&amp;action=edit\"/>\\n<link rel=\"apple-touch-icon\" href=\"/static/apple-touch/wikipedia.png\"/>\\n<link rel=\"shortcut icon\" href=\"/static/favicon/wikipedia.ico\"/>\\n<link rel=\"search\" type=\"application/opensearchdescription+xml\" href=\"/w/opensearch_desc.php\" title=\"Wikipedia (en)\"/>\\n<link rel=\"EditURI\" type=\"application/rsd+xml\" href=\"//en.wikipedia.org/w/api.php?action=rsd\"/>\\n<link rel=\"license\" href=\"//creativecommons.org/licenses/by-sa/3.0/\"/>\\n<link rel=\"alternate\" type=\"application/atom+xml\" title=\"Wikipedia Atom feed\" href=\"/w/index.php?title=Special:RecentChanges&amp;feed=atom\"/>\\n<link rel=\"canonical\" href=\"https://en.wikipedia.org/wiki/List_of_postal_codes_of_Canada:_M\"/>\\n<link rel=\"dns-prefetch\" href=\"//login.wikimedia.org\"/>\\n<link rel=\"dns-prefetch\" href=\"//meta.wikimedia.org\" />\\n</head>\\n<body class=\"mediawiki ltr sitedir-ltr mw-hide-empty-elt ns-0 ns-subject mw-editable page-List_of_postal_codes_of_Canada_M rootpage-List_of_postal_codes_of_Canada_M skin-vector action-view skin-vector-legacy\"><div id=\"mw-page-base\" class=\"noprint\"></div>\\n<div id=\"mw-head-base\" class=\"noprint\"></div>\\n<div id=\"content\" class=\"mw-body\" role=\"main\">\\n\\t<a id=\"top\"></a>\\n\\t<div id=\"siteNotice\" class=\"mw-body-content\"><!-- CentralNotice --></div>\\n\\t<div class=\"mw-indicators mw-body-content\">\\n\\t</div>\\n\\t<h1 id=\"firstHeading\" class=\"firstHeading\" lang=\"en\">List of postal codes of Canada: M</h1>\\n\\t<div id=\"bodyContent\" class=\"mw-body-content\">\\n\\t\\t<div id=\"siteSub\" class=\"noprint\">From Wikipedia, the free encyclopedia</div>\\n\\t\\t<div id=\"contentSub\"></div>\\n\\t\\t<div id=\"contentSub2\"></div>\\n\\t\\t\\n\\t\\t<div id=\"jump-to-nav\"></div>\\n\\t\\t<a class=\"mw-jump-link\" href=\"#mw-head\">Jump to navigation</a>\\n\\t\\t<a class=\"mw-jump-link\" href=\"#searchInput\">Jump to search</a>\\n\\t\\t<div id=\"mw-content-text\" lang=\"en\" dir=\"ltr\" class=\"mw-content-ltr\"><div class=\"mw-parser-output\"><div class=\"shortdescription nomobile noexcerpt noprint searchaux\" style=\"display:none\">Wikipedia list article</div>\\n<p>This is a list of <a href=\"/wiki/Postal_codes_in_Canada\" title=\"Postal codes in Canada\">postal codes in Canada</a> where the first letter is M. Postal codes beginning with M are located within the city of <a href=\"/wiki/Toronto\" title=\"Toronto\">Toronto</a> in the province of <a href=\"/wiki/Ontario\" title=\"Ontario\">Ontario</a>. Only the first three characters are listed, corresponding to the Forward Sortation Area.\\n</p><p><a href=\"/wiki/Canada_Post\" title=\"Canada Post\">Canada Post</a> provides a free postal code look-up tool on its website,<sup id=\"cite_ref-1\" class=\"reference\"><a href=\"#cite_note-1\">&#91;1&#93;</a></sup> via its <a href=\"/wiki/Mobile_app\" title=\"Mobile app\">applications</a> for such <a href=\"/wiki/Smartphones\" class=\"mw-redirect\" title=\"Smartphones\">smartphones</a> as the <a href=\"/wiki/IPhone\" title=\"IPhone\">iPhone</a> and <a href=\"/wiki/BlackBerry\" title=\"BlackBerry\">BlackBerry</a>,<sup id=\"cite_ref-2\" class=\"reference\"><a href=\"#cite_note-2\">&#91;2&#93;</a></sup>  and sells hard-copy directories and <a href=\"/wiki/CD-ROM\" title=\"CD-ROM\">CD-ROMs</a>. Many vendors also sell validation tools, which allow customers to properly match addresses and postal codes. Hard-copy directories can also be consulted in all post offices, and some libraries.\\n</p>\\n<h2><span class=\"mw-headline\" id=\"Toronto_-_103_FSAs\"><a href=\"/wiki/Toronto\" title=\"Toronto\">Toronto</a> - 103 <a href=\"/wiki/Postal_codes_in_Canada#Forward_sortation_areas\" title=\"Postal codes in Canada\">FSAs</a></span><span class=\"mw-editsection\"><span class=\"mw-editsection-bracket\">[</span><a href=\"/w/index.php?title=List_of_postal_codes_of_Canada:_M&amp;action=edit&amp;section=1\" title=\"Edit section: Toronto - 103 FSAs\">edit</a><span class=\"mw-editsection-bracket\">]</span></span></h2>\\n<p>Note: There are no rural FSAs in Toronto, hence no postal codes should start with M0. However, the postal code M0R 8T0 is assigned to an <a href=\"/wiki/Amazon_(company)\" title=\"Amazon (company)\">Amazon</a> warehouse in Mississauga, suggesting that Canada Post may have reserved the M0 FSA for high volume addresses.\\n</p>\\n<table class=\"wikitable sortable\">\\n<tbody><tr>\\n<th>Postal Code\\n</th>\\n<th>Borough\\n</th>\\n<th>Neighbourhood\\n</th></tr>\\n<tr>\\n<td>M1A\\n</td>\\n<td>Not assigned\\n</td>\\n<td>Not assigned\\n</td></tr>\\n<tr>\\n<td>M2A\\n</td>\\n<td>Not assigned\\n</td>\\n<td>Not assigned\\n</td></tr>\\n<tr>\\n<td>M3A\\n</td>\\n<td>North York\\n</td>\\n<td>Parkwoods\\n</td></tr>\\n<tr>\\n<td>M4A\\n</td>\\n<td>North York\\n</td>\\n<td>Victoria Village\\n</td></tr>\\n<tr>\\n<td>M5A\\n</td>\\n<td>Downtown Toronto\\n</td>\\n<td>Regent Park, Harbourfront\\n</td></tr>\\n<tr>\\n<td>M6A\\n</td>\\n<td>North York\\n</td>\\n<td>Lawrence Manor, Lawrence Heights\\n</td></tr>\\n<tr>\\n<td>M7A\\n</td>\\n<td>Downtown Toronto\\n</td>\\n<td>Queen\\'s Park, Ontario Provincial Government\\n</td></tr>\\n<tr>\\n<td>M8A\\n</td>\\n<td>Not assigned\\n</td>\\n<td>Not assigned\\n</td></tr>\\n<tr>\\n<td>M9A\\n</td>\\n<td>Etobicoke\\n</td>\\n<td>Islington Avenue, Humber Valley Village\\n</td></tr>\\n<tr>\\n<td>M1B\\n</td>\\n<td>Scarborough\\n</td>\\n<td>Malvern, Rouge\\n</td></tr>\\n<tr>\\n<td>M2B\\n</td>\\n<td>Not assigned\\n</td>\\n<td>Not assigned\\n</td></tr>\\n<tr>\\n<td>M3B\\n</td>\\n<td>North York\\n</td>\\n<td>Don Mills\\n</td></tr>\\n<tr>\\n<td>M4B\\n</td>\\n<td>East York\\n</td>\\n<td>Parkview Hill, Woodbine Gardens\\n</td></tr>\\n<tr>\\n<td>M5B\\n</td>\\n<td>Downtown Toronto\\n</td>\\n<td>Garden District, Ryerson\\n</td></tr>\\n<tr>\\n<td>M6B\\n</td>\\n<td>North York\\n</td>\\n<td>Glencairn\\n</td></tr>\\n<tr>\\n<td>M7B\\n</td>\\n<td>Not assigned\\n</td>\\n<td>Not assigned\\n</td></tr>\\n<tr>\\n<td>M8B\\n</td>\\n<td>Not assigned\\n</td>\\n<td>Not assigned\\n</td></tr>\\n<tr>\\n<td>M9B\\n</td>\\n<td>Etobicoke\\n</td>\\n<td>West Deane Park, Princess Gardens, Martin Grove, Islington, Cloverdale\\n</td></tr>\\n<tr>\\n<td>M1C\\n</td>\\n<td>Scarborough\\n</td>\\n<td>Rouge Hill, Port Union, Highland Creek\\n</td></tr>\\n<tr>\\n<td>M2C\\n</td>\\n<td>Not assigned\\n</td>\\n<td>Not assigned\\n</td></tr>\\n<tr>\\n<td>M3C\\n</td>\\n<td>North York\\n</td>\\n<td>Don Mills\\n</td></tr>\\n<tr>\\n<td>M4C\\n</td>\\n<td>East York\\n</td>\\n<td>Woodbine Heights\\n</td></tr>\\n<tr>\\n<td>M5C\\n</td>\\n<td>Downtown Toronto\\n</td>\\n<td>St. James Town\\n</td></tr>\\n<tr>\\n<td>M6C\\n</td>\\n<td>York\\n</td>\\n<td>Humewood-Cedarvale\\n</td></tr>\\n<tr>\\n<td>M7C\\n</td>\\n<td>Not assigned\\n</td>\\n<td>Not assigned\\n</td></tr>\\n<tr>\\n<td>M8C\\n</td>\\n<td>Not assigned\\n</td>\\n<td>Not assigned\\n</td></tr>\\n<tr>\\n<td>M9C\\n</td>\\n<td>Etobicoke\\n</td>\\n<td>Eringate, Bloordale Gardens, Old Burnhamthorpe, Markland Wood\\n</td></tr>\\n<tr>\\n<td>M1E\\n</td>\\n<td>Scarborough\\n</td>\\n<td>Guildwood, Morningside, West Hill\\n</td></tr>\\n<tr>\\n<td>M2E\\n</td>\\n<td>Not assigned\\n</td>\\n<td>Not assigned\\n</td></tr>\\n<tr>\\n<td>M3E\\n</td>\\n<td>Not assigned\\n</td>\\n<td>Not assigned\\n</td></tr>\\n<tr>\\n<td>M4E\\n</td>\\n<td>East Toronto\\n</td>\\n<td>The Beaches\\n</td></tr>\\n<tr>\\n<td>M5E\\n</td>\\n<td>Downtown Toronto\\n</td>\\n<td>Berczy Park\\n</td></tr>\\n<tr>\\n<td>M6E\\n</td>\\n<td>York\\n</td>\\n<td>Caledonia-Fairbanks\\n</td></tr>\\n<tr>\\n<td>M7E\\n</td>\\n<td>Not assigned\\n</td>\\n<td>Not assigned\\n</td></tr>\\n<tr>\\n<td>M8E\\n</td>\\n<td>Not assigned\\n</td>\\n<td>Not assigned\\n</td></tr>\\n<tr>\\n<td>M9E\\n</td>\\n<td>Not assigned\\n</td>\\n<td>Not assigned\\n</td></tr>\\n<tr>\\n<td>M1G\\n</td>\\n<td>Scarborough\\n</td>\\n<td>Woburn\\n</td></tr>\\n<tr>\\n<td>M2G\\n</td>\\n<td>Not assigned\\n</td>\\n<td>Not assigned\\n</td></tr>\\n<tr>\\n<td>M3G\\n</td>\\n<td>Not assigned\\n</td>\\n<td>Not assigned\\n</td></tr>\\n<tr>\\n<td>M4G\\n</td>\\n<td>East York\\n</td>\\n<td>Leaside\\n</td></tr>\\n<tr>\\n<td>M5G\\n</td>\\n<td>Downtown Toronto\\n</td>\\n<td>Central Bay Street\\n</td></tr>\\n<tr>\\n<td>M6G\\n</td>\\n<td>Downtown Toronto\\n</td>\\n<td>Christie\\n</td></tr>\\n<tr>\\n<td>M7G\\n</td>\\n<td>Not assigned\\n</td>\\n<td>Not assigned\\n</td></tr>\\n<tr>\\n<td>M8G\\n</td>\\n<td>Not assigned\\n</td>\\n<td>Not assigned\\n</td></tr>\\n<tr>\\n<td>M9G\\n</td>\\n<td>Not assigned\\n</td>\\n<td>Not assigned\\n</td></tr>\\n<tr>\\n<td>M1H\\n</td>\\n<td>Scarborough\\n</td>\\n<td>Cedarbrae\\n</td></tr>\\n<tr>\\n<td>M2H\\n</td>\\n<td>North York\\n</td>\\n<td>Hillcrest Village\\n</td></tr>\\n<tr>\\n<td>M3H\\n</td>\\n<td>North York\\n</td>\\n<td>Bathurst Manor, Wilson Heights, Downsview North\\n</td></tr>\\n<tr>\\n<td>M4H\\n</td>\\n<td>East York\\n</td>\\n<td>Thorncliffe Park\\n</td></tr>\\n<tr>\\n<td>M5H\\n</td>\\n<td>Downtown Toronto\\n</td>\\n<td>Richmond, Adelaide, King\\n</td></tr>\\n<tr>\\n<td>M6H\\n</td>\\n<td>West Toronto\\n</td>\\n<td>Dufferin, Dovercourt Village\\n</td></tr>\\n<tr>\\n<td>M7H\\n</td>\\n<td>Not assigned\\n</td>\\n<td>Not assigned\\n</td></tr>\\n<tr>\\n<td>M8H\\n</td>\\n<td>Not assigned\\n</td>\\n<td>Not assigned\\n</td></tr>\\n<tr>\\n<td>M9H\\n</td>\\n<td>Not assigned\\n</td>\\n<td>Not assigned\\n</td></tr>\\n<tr>\\n<td>M1J\\n</td>\\n<td>Scarborough\\n</td>\\n<td>Scarborough Village\\n</td></tr>\\n<tr>\\n<td>M2J\\n</td>\\n<td>North York\\n</td>\\n<td>Fairview, Henry Farm, Oriole\\n</td></tr>\\n<tr>\\n<td>M3J\\n</td>\\n<td>North York\\n</td>\\n<td>Northwood Park, York University\\n</td></tr>\\n<tr>\\n<td>M4J\\n</td>\\n<td>East York\\n</td>\\n<td>East Toronto, Broadview North (Old East York)\\n</td></tr>\\n<tr>\\n<td>M5J\\n</td>\\n<td>Downtown Toronto\\n</td>\\n<td>Harbourfront East, Union Station, Toronto Islands\\n</td></tr>\\n<tr>\\n<td>M6J\\n</td>\\n<td>West Toronto\\n</td>\\n<td>Little Portugal, Trinity\\n</td></tr>\\n<tr>\\n<td>M7J\\n</td>\\n<td>Not assigned\\n</td>\\n<td>Not assigned\\n</td></tr>\\n<tr>\\n<td>M8J\\n</td>\\n<td>Not assigned\\n</td>\\n<td>Not assigned\\n</td></tr>\\n<tr>\\n<td>M9J\\n</td>\\n<td>Not assigned\\n</td>\\n<td>Not assigned\\n</td></tr>\\n<tr>\\n<td>M1K\\n</td>\\n<td>Scarborough\\n</td>\\n<td>Kennedy Park, Ionview, East Birchmount Park\\n</td></tr>\\n<tr>\\n<td>M2K\\n</td>\\n<td>North York\\n</td>\\n<td>Bayview Village\\n</td></tr>\\n<tr>\\n<td>M3K\\n</td>\\n<td>North York\\n</td>\\n<td>Downsview\\n</td></tr>\\n<tr>\\n<td>M4K\\n</td>\\n<td>East Toronto\\n</td>\\n<td>The Danforth West, Riverdale\\n</td></tr>\\n<tr>\\n<td>M5K\\n</td>\\n<td>Downtown Toronto\\n</td>\\n<td>Toronto Dominion Centre, Design Exchange\\n</td></tr>\\n<tr>\\n<td>M6K\\n</td>\\n<td>West Toronto\\n</td>\\n<td>Brockton, Parkdale Village, Exhibition Place\\n</td></tr>\\n<tr>\\n<td>M7K\\n</td>\\n<td>Not assigned\\n</td>\\n<td>Not assigned\\n</td></tr>\\n<tr>\\n<td>M8K\\n</td>\\n<td>Not assigned\\n</td>\\n<td>Not assigned\\n</td></tr>\\n<tr>\\n<td>M9K\\n</td>\\n<td>Not assigned\\n</td>\\n<td>Not assigned\\n</td></tr>\\n<tr>\\n<td>M1L\\n</td>\\n<td>Scarborough\\n</td>\\n<td>Golden Mile, Clairlea, Oakridge\\n</td></tr>\\n<tr>\\n<td>M2L\\n</td>\\n<td>North York\\n</td>\\n<td>York Mills, Silver Hills\\n</td></tr>\\n<tr>\\n<td>M3L\\n</td>\\n<td>North York\\n</td>\\n<td>Downsview\\n</td></tr>\\n<tr>\\n<td>M4L\\n</td>\\n<td>East Toronto\\n</td>\\n<td>India Bazaar, The Beaches West\\n</td></tr>\\n<tr>\\n<td>M5L\\n</td>\\n<td>Downtown Toronto\\n</td>\\n<td>Commerce Court, Victoria Hotel\\n</td></tr>\\n<tr>\\n<td>M6L\\n</td>\\n<td>North York\\n</td>\\n<td>North Park, Maple Leaf Park, Upwood Park\\n</td></tr>\\n<tr>\\n<td>M7L\\n</td>\\n<td>Not assigned\\n</td>\\n<td>Not assigned\\n</td></tr>\\n<tr>\\n<td>M8L\\n</td>\\n<td>Not assigned\\n</td>\\n<td>Not assigned\\n</td></tr>\\n<tr>\\n<td>M9L\\n</td>\\n<td>North York\\n</td>\\n<td>Humber Summit\\n</td></tr>\\n<tr>\\n<td>M1M\\n</td>\\n<td>Scarborough\\n</td>\\n<td>Cliffside, Cliffcrest, Scarborough Village West\\n</td></tr>\\n<tr>\\n<td>M2M\\n</td>\\n<td>North York\\n</td>\\n<td>Willowdale, Newtonbrook\\n</td></tr>\\n<tr>\\n<td>M3M\\n</td>\\n<td>North York\\n</td>\\n<td>Downsview\\n</td></tr>\\n<tr>\\n<td>M4M\\n</td>\\n<td>East Toronto\\n</td>\\n<td>Studio District\\n</td></tr>\\n<tr>\\n<td>M5M\\n</td>\\n<td>North York\\n</td>\\n<td>Bedford Park, Lawrence Manor East\\n</td></tr>\\n<tr>\\n<td>M6M\\n</td>\\n<td>York\\n</td>\\n<td>Del Ray, Mount Dennis, Keelsdale and Silverthorn\\n</td></tr>\\n<tr>\\n<td>M7M\\n</td>\\n<td>Not assigned\\n</td>\\n<td>Not assigned\\n</td></tr>\\n<tr>\\n<td>M8M\\n</td>\\n<td>Not assigned\\n</td>\\n<td>Not assigned\\n</td></tr>\\n<tr>\\n<td>M9M\\n</td>\\n<td>North York\\n</td>\\n<td>Humberlea, Emery\\n</td></tr>\\n<tr>\\n<td>M1N\\n</td>\\n<td>Scarborough\\n</td>\\n<td>Birch Cliff, Cliffside West\\n</td></tr>\\n<tr>\\n<td>M2N\\n</td>\\n<td>North York\\n</td>\\n<td>Willowdale, Willowdale East\\n</td></tr>\\n<tr>\\n<td>M3N\\n</td>\\n<td>North York\\n</td>\\n<td>Downsview\\n</td></tr>\\n<tr>\\n<td>M4N\\n</td>\\n<td>Central Toronto\\n</td>\\n<td>Lawrence Park\\n</td></tr>\\n<tr>\\n<td>M5N\\n</td>\\n<td>Central Toronto\\n</td>\\n<td>Roselawn\\n</td></tr>\\n<tr>\\n<td>M6N\\n</td>\\n<td>York\\n</td>\\n<td>Runnymede, The Junction North\\n</td></tr>\\n<tr>\\n<td>M7N\\n</td>\\n<td>Not assigned\\n</td>\\n<td>Not assigned\\n</td></tr>\\n<tr>\\n<td>M8N\\n</td>\\n<td>Not assigned\\n</td>\\n<td>Not assigned\\n</td></tr>\\n<tr>\\n<td>M9N\\n</td>\\n<td>York\\n</td>\\n<td>Weston\\n</td></tr>\\n<tr>\\n<td>M1P\\n</td>\\n<td>Scarborough\\n</td>\\n<td>Dorset Park, Wexford Heights, Scarborough Town Centre\\n</td></tr>\\n<tr>\\n<td>M2P\\n</td>\\n<td>North York\\n</td>\\n<td>York Mills West\\n</td></tr>\\n<tr>\\n<td>M3P\\n</td>\\n<td>Not assigned\\n</td>\\n<td>Not assigned\\n</td></tr>\\n<tr>\\n<td>M4P\\n</td>\\n<td>Central Toronto\\n</td>\\n<td>Davisville North\\n</td></tr>\\n<tr>\\n<td>M5P\\n</td>\\n<td>Central Toronto\\n</td>\\n<td>Forest Hill North &amp; West, Forest Hill Road Park\\n</td></tr>\\n<tr>\\n<td>M6P\\n</td>\\n<td>West Toronto\\n</td>\\n<td>High Park, The Junction South\\n</td></tr>\\n<tr>\\n<td>M7P\\n</td>\\n<td>Not assigned\\n</td>\\n<td>Not assigned\\n</td></tr>\\n<tr>\\n<td>M8P\\n</td>\\n<td>Not assigned\\n</td>\\n<td>Not assigned\\n</td></tr>\\n<tr>\\n<td>M9P\\n</td>\\n<td>Etobicoke\\n</td>\\n<td>Westmount\\n</td></tr>\\n<tr>\\n<td>M1R\\n</td>\\n<td>Scarborough\\n</td>\\n<td>Wexford, Maryvale\\n</td></tr>\\n<tr>\\n<td>M2R\\n</td>\\n<td>North York\\n</td>\\n<td>Willowdale, Willowdale West\\n</td></tr>\\n<tr>\\n<td>M3R\\n</td>\\n<td>Not assigned\\n</td>\\n<td>Not assigned\\n</td></tr>\\n<tr>\\n<td>M4R\\n</td>\\n<td>Central Toronto\\n</td>\\n<td>North Toronto West,  Lawrence Park\\n</td></tr>\\n<tr>\\n<td>M5R\\n</td>\\n<td>Central Toronto\\n</td>\\n<td>The Annex, North Midtown, Yorkville\\n</td></tr>\\n<tr>\\n<td>M6R\\n</td>\\n<td>West Toronto\\n</td>\\n<td>Parkdale, Roncesvalles\\n</td></tr>\\n<tr>\\n<td>M7R\\n</td>\\n<td>Mississauga\\n</td>\\n<td>Canada Post Gateway Processing Centre\\n</td></tr>\\n<tr>\\n<td>M8R\\n</td>\\n<td>Not assigned\\n</td>\\n<td>Not assigned\\n</td></tr>\\n<tr>\\n<td>M9R\\n</td>\\n<td>Etobicoke\\n</td>\\n<td>Kingsview Village, St. Phillips, Martin Grove Gardens, Richview Gardens\\n</td></tr>\\n<tr>\\n<td>M1S\\n</td>\\n<td>Scarborough\\n</td>\\n<td>Agincourt\\n</td></tr>\\n<tr>\\n<td>M2S\\n</td>\\n<td>Not assigned\\n</td>\\n<td>Not assigned\\n</td></tr>\\n<tr>\\n<td>M3S\\n</td>\\n<td>Not assigned\\n</td>\\n<td>Not assigned\\n</td></tr>\\n<tr>\\n<td>M4S\\n</td>\\n<td>Central Toronto\\n</td>\\n<td>Davisville\\n</td></tr>\\n<tr>\\n<td>M5S\\n</td>\\n<td>Downtown Toronto\\n</td>\\n<td>University of Toronto, Harbord\\n</td></tr>\\n<tr>\\n<td>M6S\\n</td>\\n<td>West Toronto\\n</td>\\n<td>Runnymede, Swansea\\n</td></tr>\\n<tr>\\n<td>M7S\\n</td>\\n<td>Not assigned\\n</td>\\n<td>Not assigned\\n</td></tr>\\n<tr>\\n<td>M8S\\n</td>\\n<td>Not assigned\\n</td>\\n<td>Not assigned\\n</td></tr>\\n<tr>\\n<td>M9S\\n</td>\\n<td>Not assigned\\n</td>\\n<td>Not assigned\\n</td></tr>\\n<tr>\\n<td>M1T\\n</td>\\n<td>Scarborough\\n</td>\\n<td>Clarks Corners, Tam O\\'Shanter, Sullivan\\n</td></tr>\\n<tr>\\n<td>M2T\\n</td>\\n<td>Not assigned\\n</td>\\n<td>Not assigned\\n</td></tr>\\n<tr>\\n<td>M3T\\n</td>\\n<td>Not assigned\\n</td>\\n<td>Not assigned\\n</td></tr>\\n<tr>\\n<td>M4T\\n</td>\\n<td>Central Toronto\\n</td>\\n<td>Moore Park, Summerhill East\\n</td></tr>\\n<tr>\\n<td>M5T\\n</td>\\n<td>Downtown Toronto\\n</td>\\n<td>Kensington Market, Chinatown, Grange Park\\n</td></tr>\\n<tr>\\n<td>M6T\\n</td>\\n<td>Not assigned\\n</td>\\n<td>Not assigned\\n</td></tr>\\n<tr>\\n<td>M7T\\n</td>\\n<td>Not assigned\\n</td>\\n<td>Not assigned\\n</td></tr>\\n<tr>\\n<td>M8T\\n</td>\\n<td>Not assigned\\n</td>\\n<td>Not assigned\\n</td></tr>\\n<tr>\\n<td>M9T\\n</td>\\n<td>Not assigned\\n</td>\\n<td>Not assigned\\n</td></tr>\\n<tr>\\n<td>M1V\\n</td>\\n<td>Scarborough\\n</td>\\n<td>Milliken, Agincourt North, Steeles East, L\\'Amoreaux East\\n</td></tr>\\n<tr>\\n<td>M2V\\n</td>\\n<td>Not assigned\\n</td>\\n<td>Not assigned\\n</td></tr>\\n<tr>\\n<td>M3V\\n</td>\\n<td>Not assigned\\n</td>\\n<td>Not assigned\\n</td></tr>\\n<tr>\\n<td>M4V\\n</td>\\n<td>Central Toronto\\n</td>\\n<td>Summerhill West, Rathnelly, South Hill, Forest Hill SE, Deer Park\\n</td></tr>\\n<tr>\\n<td>M5V\\n</td>\\n<td>Downtown Toronto\\n</td>\\n<td>CN Tower, King and Spadina, Railway Lands, Harbourfront West, Bathurst Quay, South Niagara, Island airport\\n</td></tr>\\n<tr>\\n<td>M6V\\n</td>\\n<td>Not assigned\\n</td>\\n<td>Not assigned\\n</td></tr>\\n<tr>\\n<td>M7V\\n</td>\\n<td>Not assigned\\n</td>\\n<td>Not assigned\\n</td></tr>\\n<tr>\\n<td>M8V\\n</td>\\n<td>Etobicoke\\n</td>\\n<td>New Toronto, Mimico South, Humber Bay Shores\\n</td></tr>\\n<tr>\\n<td>M9V\\n</td>\\n<td>Etobicoke\\n</td>\\n<td>South Steeles, Silverstone, Humbergate, Jamestown, Mount Olive, Beaumond Heights, Thistletown, Albion Gardens\\n</td></tr>\\n<tr>\\n<td>M1W\\n</td>\\n<td>Scarborough\\n</td>\\n<td>Steeles West, L\\'Amoreaux West\\n</td></tr>\\n<tr>\\n<td>M2W\\n</td>\\n<td>Not assigned\\n</td>\\n<td>Not assigned\\n</td></tr>\\n<tr>\\n<td>M3W\\n</td>\\n<td>Not assigned\\n</td>\\n<td>Not assigned\\n</td></tr>\\n<tr>\\n<td>M4W\\n</td>\\n<td>Downtown Toronto\\n</td>\\n<td>Rosedale\\n</td></tr>\\n<tr>\\n<td>M5W\\n</td>\\n<td>Downtown Toronto\\n</td>\\n<td>Stn A PO Boxes\\n</td></tr>\\n<tr>\\n<td>M6W\\n</td>\\n<td>Not assigned\\n</td>\\n<td>Not assigned\\n</td></tr>\\n<tr>\\n<td>M7W\\n</td>\\n<td>Not assigned\\n</td>\\n<td>Not assigned\\n</td></tr>\\n<tr>\\n<td>M8W\\n</td>\\n<td>Etobicoke\\n</td>\\n<td>Alderwood, Long Branch\\n</td></tr>\\n<tr>\\n<td>M9W\\n</td>\\n<td>Etobicoke\\n</td>\\n<td>Northwest, West Humber - Clairville\\n</td></tr>\\n<tr>\\n<td>M1X\\n</td>\\n<td>Scarborough\\n</td>\\n<td>Upper Rouge\\n</td></tr>\\n<tr>\\n<td>M2X\\n</td>\\n<td>Not assigned\\n</td>\\n<td>Not assigned\\n</td></tr>\\n<tr>\\n<td>M3X\\n</td>\\n<td>Not assigned\\n</td>\\n<td>Not assigned\\n</td></tr>\\n<tr>\\n<td>M4X\\n</td>\\n<td>Downtown Toronto\\n</td>\\n<td>St. James Town, Cabbagetown\\n</td></tr>\\n<tr>\\n<td>M5X\\n</td>\\n<td>Downtown Toronto\\n</td>\\n<td>First Canadian Place, Underground city\\n</td></tr>\\n<tr>\\n<td>M6X\\n</td>\\n<td>Not assigned\\n</td>\\n<td>Not assigned\\n</td></tr>\\n<tr>\\n<td>M7X\\n</td>\\n<td>Not assigned\\n</td>\\n<td>Not assigned\\n</td></tr>\\n<tr>\\n<td>M8X\\n</td>\\n<td>Etobicoke\\n</td>\\n<td>The Kingsway, Montgomery Road, Old Mill North\\n</td></tr>\\n<tr>\\n<td>M9X\\n</td>\\n<td>Not assigned\\n</td>\\n<td>Not assigned\\n</td></tr>\\n<tr>\\n<td>M1Y\\n</td>\\n<td>Not assigned\\n</td>\\n<td>Not assigned\\n</td></tr>\\n<tr>\\n<td>M2Y\\n</td>\\n<td>Not assigned\\n</td>\\n<td>Not assigned\\n</td></tr>\\n<tr>\\n<td>M3Y\\n</td>\\n<td>Not assigned\\n</td>\\n<td>Not assigned\\n</td></tr>\\n<tr>\\n<td>M4Y\\n</td>\\n<td>Downtown Toronto\\n</td>\\n<td>Church and Wellesley\\n</td></tr>\\n<tr>\\n<td>M5Y\\n</td>\\n<td>Not assigned\\n</td>\\n<td>Not assigned\\n</td></tr>\\n<tr>\\n<td>M6Y\\n</td>\\n<td>Not assigned\\n</td>\\n<td>Not assigned\\n</td></tr>\\n<tr>\\n<td>M7Y\\n</td>\\n<td>East Toronto\\n</td>\\n<td>Business reply mail Processing Centre, South Central Letter Processing Plant Toronto\\n</td></tr>\\n<tr>\\n<td>M8Y\\n</td>\\n<td>Etobicoke\\n</td>\\n<td>Old Mill South, King\\'s Mill Park, Sunnylea, Humber Bay, Mimico NE, The Queensway East, Royal York South East, Kingsway Park South East\\n</td></tr>\\n<tr>\\n<td>M9Y\\n</td>\\n<td>Not assigned\\n</td>\\n<td>Not assigned\\n</td></tr>\\n<tr>\\n<td>M1Z\\n</td>\\n<td>Not assigned\\n</td>\\n<td>Not assigned\\n</td></tr>\\n<tr>\\n<td>M2Z\\n</td>\\n<td>Not assigned\\n</td>\\n<td>Not assigned\\n</td></tr>\\n<tr>\\n<td>M3Z\\n</td>\\n<td>Not assigned\\n</td>\\n<td>Not assigned\\n</td></tr>\\n<tr>\\n<td>M4Z\\n</td>\\n<td>Not assigned\\n</td>\\n<td>Not assigned\\n</td></tr>\\n<tr>\\n<td>M5Z\\n</td>\\n<td>Not assigned\\n</td>\\n<td>Not assigned\\n</td></tr>\\n<tr>\\n<td>M6Z\\n</td>\\n<td>Not assigned\\n</td>\\n<td>Not assigned\\n</td></tr>\\n<tr>\\n<td>M7Z\\n</td>\\n<td>Not assigned\\n</td>\\n<td>Not assigned\\n</td></tr>\\n<tr>\\n<td>M8Z\\n</td>\\n<td>Etobicoke\\n</td>\\n<td>Mimico NW, The Queensway West, South of Bloor, Kingsway Park South West, Royal York South West\\n</td></tr>\\n<tr>\\n<td>M9Z\\n</td>\\n<td>Not assigned\\n</td>\\n<td>Not assigned\\n</td></tr></tbody></table>\\n<h2><span id=\"Most_populated_FSAs.5B3.5D\"></span><span class=\"mw-headline\" id=\"Most_populated_FSAs[3]\">Most populated FSAs<sup id=\"cite_ref-statcan_3-0\" class=\"reference\"><a href=\"#cite_note-statcan-3\">&#91;3&#93;</a></sup></span><span class=\"mw-editsection\"><span class=\"mw-editsection-bracket\">[</span><a href=\"/w/index.php?title=List_of_postal_codes_of_Canada:_M&amp;action=edit&amp;section=2\" title=\"Edit section: Most populated FSAs[3]\">edit</a><span class=\"mw-editsection-bracket\">]</span></span></h2>\\n<ol><li>M1B, 65,129</li>\\n<li>M2N, 60,124</li>\\n<li>M1V, 55,250</li>\\n<li>M9V, 55,159</li>\\n<li>M2J, 54,391</li></ol>\\n<h2><span id=\"Least_populated_FSAs.5B3.5D\"></span><span class=\"mw-headline\" id=\"Least_populated_FSAs[3]\">Least populated FSAs<sup id=\"cite_ref-statcan_3-1\" class=\"reference\"><a href=\"#cite_note-statcan-3\">&#91;3&#93;</a></sup></span><span class=\"mw-editsection\"><span class=\"mw-editsection-bracket\">[</span><a href=\"/w/index.php?title=List_of_postal_codes_of_Canada:_M&amp;action=edit&amp;section=3\" title=\"Edit section: Least populated FSAs[3]\">edit</a><span class=\"mw-editsection-bracket\">]</span></span></h2>\\n<ol><li>M5K, 5</li>\\n<li>M5L, 5</li>\\n<li>M5W, 5</li>\\n<li>M5X, 5</li>\\n<li>M7A, 5</li></ol>\\n<h2><span class=\"mw-headline\" id=\"References\">References</span><span class=\"mw-editsection\"><span class=\"mw-editsection-bracket\">[</span><a href=\"/w/index.php?title=List_of_postal_codes_of_Canada:_M&amp;action=edit&amp;section=4\" title=\"Edit section: References\">edit</a><span class=\"mw-editsection-bracket\">]</span></span></h2>\\n<div class=\"mw-references-wrap\"><ol class=\"references\">\\n<li id=\"cite_note-1\"><span class=\"mw-cite-backlink\"><b><a href=\"#cite_ref-1\">^</a></b></span> <span class=\"reference-text\">\\n<cite id=\"CITEREFCanada_Post\" class=\"citation web cs1\">Canada Post. <a rel=\"nofollow\" class=\"external text\" href=\"https://www.canadapost.ca/cpotools/apps/fpc/personal/findByCity?execution=e2s1\">\"Canada Post - Find a Postal Code\"</a><span class=\"reference-accessdate\">. Retrieved <span class=\"nowrap\">9 November</span> 2008</span>.</cite><span title=\"ctx_ver=Z39.88-2004&amp;rft_val_fmt=info%3Aofi%2Ffmt%3Akev%3Amtx%3Abook&amp;rft.genre=unknown&amp;rft.btitle=Canada+Post+-+Find+a+Postal+Code&amp;rft.au=Canada+Post&amp;rft_id=https%3A%2F%2Fwww.canadapost.ca%2Fcpotools%2Fapps%2Ffpc%2Fpersonal%2FfindByCity%3Fexecution%3De2s1&amp;rfr_id=info%3Asid%2Fen.wikipedia.org%3AList+of+postal+codes+of+Canada%3A+M\" class=\"Z3988\"></span><style data-mw-deduplicate=\"TemplateStyles:r951705291\">.mw-parser-output cite.citation{font-style:inherit}.mw-parser-output .citation q{quotes:\"\\\\\"\"\"\\\\\"\"\"\\'\"\"\\'\"}.mw-parser-output .id-lock-free a,.mw-parser-output .citation .cs1-lock-free a{background-image:url(\"//upload.wikimedia.org/wikipedia/commons/thumb/6/65/Lock-green.svg/9px-Lock-green.svg.png\");background-image:linear-gradient(transparent,transparent),url(\"//upload.wikimedia.org/wikipedia/commons/6/65/Lock-green.svg\");background-repeat:no-repeat;background-size:9px;background-position:right .1em center}.mw-parser-output .id-lock-limited a,.mw-parser-output .id-lock-registration a,.mw-parser-output .citation .cs1-lock-limited a,.mw-parser-output .citation .cs1-lock-registration a{background-image:url(\"//upload.wikimedia.org/wikipedia/commons/thumb/d/d6/Lock-gray-alt-2.svg/9px-Lock-gray-alt-2.svg.png\");background-image:linear-gradient(transparent,transparent),url(\"//upload.wikimedia.org/wikipedia/commons/d/d6/Lock-gray-alt-2.svg\");background-repeat:no-repeat;background-size:9px;background-position:right .1em center}.mw-parser-output .id-lock-subscription a,.mw-parser-output .citation .cs1-lock-subscription a{background-image:url(\"//upload.wikimedia.org/wikipedia/commons/thumb/a/aa/Lock-red-alt-2.svg/9px-Lock-red-alt-2.svg.png\");background-image:linear-gradient(transparent,transparent),url(\"//upload.wikimedia.org/wikipedia/commons/a/aa/Lock-red-alt-2.svg\");background-repeat:no-repeat;background-size:9px;background-position:right .1em center}.mw-parser-output .cs1-subscription,.mw-parser-output .cs1-registration{color:#555}.mw-parser-output .cs1-subscription span,.mw-parser-output .cs1-registration span{border-bottom:1px dotted;cursor:help}.mw-parser-output .cs1-ws-icon a{background-image:url(\"//upload.wikimedia.org/wikipedia/commons/thumb/4/4c/Wikisource-logo.svg/12px-Wikisource-logo.svg.png\");background-image:linear-gradient(transparent,transparent),url(\"//upload.wikimedia.org/wikipedia/commons/4/4c/Wikisource-logo.svg\");background-repeat:no-repeat;background-size:12px;background-position:right .1em center}.mw-parser-output code.cs1-code{color:inherit;background:inherit;border:inherit;padding:inherit}.mw-parser-output .cs1-hidden-error{display:none;font-size:100%}.mw-parser-output .cs1-visible-error{font-size:100%}.mw-parser-output .cs1-maint{display:none;color:#33aa33;margin-left:0.3em}.mw-parser-output .cs1-subscription,.mw-parser-output .cs1-registration,.mw-parser-output .cs1-format{font-size:95%}.mw-parser-output .cs1-kern-left,.mw-parser-output .cs1-kern-wl-left{padding-left:0.2em}.mw-parser-output .cs1-kern-right,.mw-parser-output .cs1-kern-wl-right{padding-right:0.2em}.mw-parser-output .citation .mw-selflink{font-weight:inherit}</style></span>\\n</li>\\n<li id=\"cite_note-2\"><span class=\"mw-cite-backlink\"><b><a href=\"#cite_ref-2\">^</a></b></span> <span class=\"reference-text\"><cite class=\"citation web cs1\"><a rel=\"nofollow\" class=\"external text\" href=\"https://web.archive.org/web/20110519093024/http://www.canadapost.ca/cpo/mc/personal/tools/mobileapp/default.jsf\">\"Mobile Apps\"</a>. Canada Post. Archived from <a rel=\"nofollow\" class=\"external text\" href=\"http://www.canadapost.ca/cpo/mc/personal/tools/mobileapp/default.jsf\">the original</a> on 2011-05-19.</cite><span title=\"ctx_ver=Z39.88-2004&amp;rft_val_fmt=info%3Aofi%2Ffmt%3Akev%3Amtx%3Abook&amp;rft.genre=unknown&amp;rft.btitle=Mobile+Apps&amp;rft.pub=Canada+Post&amp;rft_id=http%3A%2F%2Fwww.canadapost.ca%2Fcpo%2Fmc%2Fpersonal%2Ftools%2Fmobileapp%2Fdefault.jsf&amp;rfr_id=info%3Asid%2Fen.wikipedia.org%3AList+of+postal+codes+of+Canada%3A+M\" class=\"Z3988\"></span><link rel=\"mw-deduplicated-inline-style\" href=\"mw-data:TemplateStyles:r951705291\"/></span>\\n</li>\\n<li id=\"cite_note-statcan-3\"><span class=\"mw-cite-backlink\">^ <a href=\"#cite_ref-statcan_3-0\"><sup><i><b>a</b></i></sup></a> <a href=\"#cite_ref-statcan_3-1\"><sup><i><b>b</b></i></sup></a></span> <span class=\"reference-text\"><cite class=\"citation web cs1\"><a rel=\"nofollow\" class=\"external text\" href=\"http://www12.statcan.ca/english/census06/data/popdwell/Table.cfm?T=1201&amp;SR=1&amp;S=0&amp;O=A&amp;RPP=9999&amp;PR=0&amp;CMA=0\">\"2006 Census of Population\"</a>. 15 October 2008.</cite><span title=\"ctx_ver=Z39.88-2004&amp;rft_val_fmt=info%3Aofi%2Ffmt%3Akev%3Amtx%3Abook&amp;rft.genre=unknown&amp;rft.btitle=2006+Census+of+Population&amp;rft.date=2008-10-15&amp;rft_id=http%3A%2F%2Fwww12.statcan.ca%2Fenglish%2Fcensus06%2Fdata%2Fpopdwell%2FTable.cfm%3FT%3D1201%26SR%3D1%26S%3D0%26O%3DA%26RPP%3D9999%26PR%3D0%26CMA%3D0&amp;rfr_id=info%3Asid%2Fen.wikipedia.org%3AList+of+postal+codes+of+Canada%3A+M\" class=\"Z3988\"></span><link rel=\"mw-deduplicated-inline-style\" href=\"mw-data:TemplateStyles:r951705291\"/></span>\\n</li>\\n</ol></div>\\n<table class=\"navbox\">\\n<tbody><tr>\\n<td style=\"width:36px; text-align:center\"><a href=\"/wiki/File:Flag_of_Canada.svg\" class=\"image\" title=\"Flag of Canada\"><img alt=\"Flag of Canada\" src=\"//upload.wikimedia.org/wikipedia/en/thumb/c/cf/Flag_of_Canada.svg/36px-Flag_of_Canada.svg.png\" decoding=\"async\" width=\"36\" height=\"18\" srcset=\"//upload.wikimedia.org/wikipedia/en/thumb/c/cf/Flag_of_Canada.svg/54px-Flag_of_Canada.svg.png 1.5x, //upload.wikimedia.org/wikipedia/en/thumb/c/cf/Flag_of_Canada.svg/72px-Flag_of_Canada.svg.png 2x\" data-file-width=\"1200\" data-file-height=\"600\" /></a>\\n</td>\\n<th class=\"navbox-title\" style=\"font-size:110%\"><a href=\"/wiki/Postal_codes_in_Canada\" title=\"Postal codes in Canada\">Canadian postal codes</a>\\n</th>\\n<td style=\"width:36px; text-align:center\"><a href=\"/wiki/File:Canadian_postal_district_map_(without_legends).svg\" class=\"image\"><img alt=\"Canadian postal district map (without legends).svg\" src=\"//upload.wikimedia.org/wikipedia/commons/thumb/e/eb/Canadian_postal_district_map_%28without_legends%29.svg/21px-Canadian_postal_district_map_%28without_legends%29.svg.png\" decoding=\"async\" width=\"21\" height=\"18\" srcset=\"//upload.wikimedia.org/wikipedia/commons/thumb/e/eb/Canadian_postal_district_map_%28without_legends%29.svg/32px-Canadian_postal_district_map_%28without_legends%29.svg.png 1.5x, //upload.wikimedia.org/wikipedia/commons/thumb/e/eb/Canadian_postal_district_map_%28without_legends%29.svg/43px-Canadian_postal_district_map_%28without_legends%29.svg.png 2x\" data-file-width=\"1000\" data-file-height=\"846\" /></a>\\n</td></tr>\\n<tr>\\n<td style=\"text-align:center; font-size: 100%;\" colspan=\"3\">\\n<table width=\"100%\" style=\"background-color: #F8F8F8;\" cellspacing=\"0\">\\n<tbody><tr>\\n<td style=\"text-align:center; border:1px solid #aaa;\"><a href=\"/wiki/Newfoundland_and_Labrador\" title=\"Newfoundland and Labrador\">NL</a>\\n</td>\\n<td style=\"text-align:center; border:1px solid #aaa;\"><a href=\"/wiki/Nova_Scotia\" title=\"Nova Scotia\">NS</a>\\n</td>\\n<td style=\"text-align:center; border:1px solid #aaa;\"><a href=\"/wiki/Prince_Edward_Island\" title=\"Prince Edward Island\">PE</a>\\n</td>\\n<td style=\"text-align:center; border:1px solid #aaa;\"><a href=\"/wiki/New_Brunswick\" title=\"New Brunswick\">NB</a>\\n</td>\\n<td style=\"text-align:center; border:1px solid #aaa;\" colspan=\"3\"><a href=\"/wiki/Quebec\" title=\"Quebec\">QC</a>\\n</td>\\n<td style=\"text-align:center; border:1px solid #aaa;\" colspan=\"5\"><a href=\"/wiki/Ontario\" title=\"Ontario\">ON</a>\\n</td>\\n<td style=\"text-align:center; border:1px solid #aaa;\"><a href=\"/wiki/Manitoba\" title=\"Manitoba\">MB</a>\\n</td>\\n<td style=\"text-align:center; border:1px solid #aaa;\"><a href=\"/wiki/Saskatchewan\" title=\"Saskatchewan\">SK</a>\\n</td>\\n<td style=\"text-align:center; border:1px solid #aaa;\"><a href=\"/wiki/Alberta\" title=\"Alberta\">AB</a>\\n</td>\\n<td style=\"text-align:center; border:1px solid #aaa;\"><a href=\"/wiki/British_Columbia\" title=\"British Columbia\">BC</a>\\n</td>\\n<td style=\"text-align:center; border:1px solid #aaa;\"><a href=\"/wiki/Nunavut\" title=\"Nunavut\">NU</a>/<a href=\"/wiki/Northwest_Territories\" title=\"Northwest Territories\">NT</a>\\n</td>\\n<td style=\"text-align:center; border:1px solid #aaa;\"><a href=\"/wiki/Yukon\" title=\"Yukon\">YT</a>\\n</td></tr>\\n<tr>\\n<td style=\"border: 1px solid #FF0000; background-color: #FFE0E0; font-size: 135%;\" align=\"center\" width=\"5%\"><a href=\"/wiki/List_of_postal_codes_of_Canada:_A\" title=\"List of postal codes of Canada: A\">A</a>\\n</td>\\n<td style=\"border: 1px solid #FF4000; background-color: #FFE8E0; font-size: 135%;\" align=\"center\" width=\"5%\"><a href=\"/wiki/List_of_postal_codes_of_Canada:_B\" title=\"List of postal codes of Canada: B\">B</a>\\n</td>\\n<td style=\"border: 1px solid #FF8000; background-color: #FFF0E0; font-size: 135%;\" align=\"center\" width=\"5%\"><a href=\"/wiki/List_of_postal_codes_of_Canada:_C\" title=\"List of postal codes of Canada: C\">C</a>\\n</td>\\n<td style=\"border: 1px solid #FFC000; background-color: #FFF8E0; font-size: 135%;\" align=\"center\" width=\"5%\"><a href=\"/wiki/List_of_postal_codes_of_Canada:_E\" title=\"List of postal codes of Canada: E\">E</a>\\n</td>\\n<td style=\"border: 1px solid #FFFF00; background-color: #FFFFE0; font-size: 135%;\" align=\"center\" width=\"5%\"><a href=\"/wiki/List_of_postal_codes_of_Canada:_G\" title=\"List of postal codes of Canada: G\">G</a>\\n</td>\\n<td style=\"border: 1px solid #C0FF00; background-color: #F8FFE0; font-size: 135%;\" align=\"center\" width=\"5%\"><a href=\"/wiki/List_of_postal_codes_of_Canada:_H\" title=\"List of postal codes of Canada: H\">H</a>\\n</td>\\n<td style=\"border: 1px solid #80FF00; background-color: #F0FFE0; font-size: 135%;\" align=\"center\" width=\"5%\"><a href=\"/wiki/List_of_postal_codes_of_Canada:_J\" title=\"List of postal codes of Canada: J\">J</a>\\n</td>\\n<td style=\"border: 1px solid #00FF00; background-color: #E0FFE0; font-size: 135%;\" align=\"center\" width=\"5%\"><a href=\"/wiki/List_of_postal_codes_of_Canada:_K\" title=\"List of postal codes of Canada: K\">K</a>\\n</td>\\n<td style=\"border: 1px solid #00FF80; background-color: #E0FFF0; font-size: 135%;\" align=\"center\" width=\"5%\"><a href=\"/wiki/List_of_postal_codes_of_Canada:_L\" title=\"List of postal codes of Canada: L\">L</a>\\n</td>\\n<td style=\"border: 1px solid #E0FFF8; background-color: #00FFC0; font-size: 135%; color: black;\" align=\"center\" width=\"5%\"><a class=\"mw-selflink selflink\">M</a>\\n</td>\\n<td style=\"border: 1px solid #00FFE0; background-color: #E0FFFC; font-size: 135%;\" align=\"center\" width=\"5%\"><a href=\"/wiki/List_of_postal_codes_of_Canada:_N\" title=\"List of postal codes of Canada: N\">N</a>\\n</td>\\n<td style=\"border: 1px solid #00FFFF; background-color: #E0FFFF; font-size: 135%;\" align=\"center\" width=\"5%\"><a href=\"/wiki/List_of_postal_codes_of_Canada:_P\" title=\"List of postal codes of Canada: P\">P</a>\\n</td>\\n<td style=\"border: 1px solid #00C0FF; background-color: #E0F8FF; font-size: 135%;\" align=\"center\" width=\"5%\"><a href=\"/wiki/List_of_postal_codes_of_Canada:_R\" title=\"List of postal codes of Canada: R\">R</a>\\n</td>\\n<td style=\"border: 1px solid #0080FF; background-color: #E0F0FF; font-size: 135%;\" align=\"center\" width=\"5%\"><a href=\"/wiki/List_of_postal_codes_of_Canada:_S\" title=\"List of postal codes of Canada: S\">S</a>\\n</td>\\n<td style=\"border: 1px solid #0040FF; background-color: #E0E8FF; font-size: 135%;\" align=\"center\" width=\"5%\"><a href=\"/wiki/List_of_postal_codes_of_Canada:_T\" title=\"List of postal codes of Canada: T\">T</a>\\n</td>\\n<td style=\"border: 1px solid #0000FF; background-color: #E0E0FF; font-size: 135%;\" align=\"center\" width=\"5%\"><a href=\"/wiki/List_of_postal_codes_of_Canada:_V\" title=\"List of postal codes of Canada: V\">V</a>\\n</td>\\n<td style=\"border: 1px solid #A000FF; background-color: #E8E0FF; font-size: 135%;\" align=\"center\" width=\"5%\"><a href=\"/wiki/List_of_postal_codes_of_Canada:_X\" title=\"List of postal codes of Canada: X\">X</a>\\n</td>\\n<td style=\"border: 1px solid #FF00FF; background-color: #FFE0FF; font-size: 135%;\" align=\"center\" width=\"5%\"><a href=\"/wiki/List_of_postal_codes_of_Canada:_Y\" title=\"List of postal codes of Canada: Y\">Y</a>\\n</td></tr></tbody></table>\\n</td></tr></tbody></table>\\n<!-- \\nNewPP limit report\\nParsed by mw1407\\nCached time: 20200807005646\\nCache expiry: 2592000\\nDynamic content: false\\nComplications: [vary\\xe2\\x80\\x90revision\\xe2\\x80\\x90sha1]\\nCPU time usage: 0.172 seconds\\nReal time usage: 0.237 seconds\\nPreprocessor visited node count: 281/1000000\\nPost\\xe2\\x80\\x90expand include size: 10828/2097152 bytes\\nTemplate argument size: 275/2097152 bytes\\nHighest expansion depth: 8/40\\nExpensive parser function count: 0/500\\nUnstrip recursion depth: 1/20\\nUnstrip post\\xe2\\x80\\x90expand size: 11806/5000000 bytes\\nLua time usage: 0.086/10.000 seconds\\nLua memory usage: 2.42 MB/50 MB\\nNumber of Wikibase entities loaded: 0/400\\n-->\\n<!--\\nTransclusion expansion time report (%,ms,calls,template)\\n100.00%  190.620      1 -total\\n 49.31%   93.993      3 Template:Cite_web\\n 42.57%   81.154      1 Template:Short_description\\n 25.61%   48.809      1 Template:Pagetype\\n  8.88%   16.929      2 Template:Main_other\\n  6.30%   12.012      1 Template:SDcat\\n  3.23%    6.163      1 Template:Canadian_postal_codes\\n-->\\n\\n<!-- Saved in parser cache with key enwiki:pcache:idhash:539066-0!canonical and timestamp 20200807005646 and revision id 969510799\\n -->\\n</div><noscript><img src=\"//en.wikipedia.org/wiki/Special:CentralAutoLogin/start?type=1x1\" alt=\"\" title=\"\" width=\"1\" height=\"1\" style=\"border: none; position: absolute;\" /></noscript>\\n<div class=\"printfooter\">Retrieved from \"<a dir=\"ltr\" href=\"https://en.wikipedia.org/w/index.php?title=List_of_postal_codes_of_Canada:_M&amp;oldid=969510799\">https://en.wikipedia.org/w/index.php?title=List_of_postal_codes_of_Canada:_M&amp;oldid=969510799</a>\"</div></div>\\n\\t\\t<div id=\"catlinks\" class=\"catlinks\" data-mw=\"interface\"><div id=\"mw-normal-catlinks\" class=\"mw-normal-catlinks\"><a href=\"/wiki/Help:Category\" title=\"Help:Category\">Categories</a>: <ul><li><a href=\"/wiki/Category:Communications_in_Ontario\" title=\"Category:Communications in Ontario\">Communications in Ontario</a></li><li><a href=\"/wiki/Category:Postal_codes_in_Canada\" title=\"Category:Postal codes in Canada\">Postal codes in Canada</a></li><li><a href=\"/wiki/Category:Toronto\" title=\"Category:Toronto\">Toronto</a></li><li><a href=\"/wiki/Category:Ontario-related_lists\" title=\"Category:Ontario-related lists\">Ontario-related lists</a></li></ul></div><div id=\"mw-hidden-catlinks\" class=\"mw-hidden-catlinks mw-hidden-cats-hidden\">Hidden categories: <ul><li><a href=\"/wiki/Category:Articles_with_short_description\" title=\"Category:Articles with short description\">Articles with short description</a></li><li><a href=\"/wiki/Category:Short_description_is_different_from_Wikidata\" title=\"Category:Short description is different from Wikidata\">Short description is different from Wikidata</a></li></ul></div></div>\\n\\t</div>\\n</div>\\n<div id=\\'mw-data-after-content\\'>\\n\\t<div class=\"read-more-container\"></div>\\n</div>\\n\\n<div id=\"mw-navigation\">\\n\\t<h2>Navigation menu</h2>\\n\\t<div id=\"mw-head\">\\n\\t\\t<!-- Please do not use role attribute as CSS selector, it is deprecated. -->\\n<nav id=\"p-personal\" class=\"vector-menu\" aria-labelledby=\"p-personal-label\" role=\"navigation\" \\n\\t >\\n\\t<h3 id=\"p-personal-label\">\\n\\t\\t<span>Personal tools</span>\\n\\t</h3>\\n\\t<!-- Please do not use the .body class, it is deprecated. -->\\n\\t<div class=\"body vector-menu-content\">\\n\\t\\t<!-- Please do not use the .menu class, it is deprecated. -->\\n\\t\\t<ul class=\"vector-menu-content-list\"><li id=\"pt-anonuserpage\">Not logged in</li><li id=\"pt-anontalk\"><a href=\"/wiki/Special:MyTalk\" title=\"Discussion about edits from this IP address [n]\" accesskey=\"n\">Talk</a></li><li id=\"pt-anoncontribs\"><a href=\"/wiki/Special:MyContributions\" title=\"A list of edits made from this IP address [y]\" accesskey=\"y\">Contributions</a></li><li id=\"pt-createaccount\"><a href=\"/w/index.php?title=Special:CreateAccount&amp;returnto=List+of+postal+codes+of+Canada%3A+M\" title=\"You are encouraged to create an account and log in; however, it is not mandatory\">Create account</a></li><li id=\"pt-login\"><a href=\"/w/index.php?title=Special:UserLogin&amp;returnto=List+of+postal+codes+of+Canada%3A+M\" title=\"You&#039;re encouraged to log in; however, it&#039;s not mandatory. [o]\" accesskey=\"o\">Log in</a></li></ul>\\n\\t\\t\\n\\t</div>\\n</nav>\\n\\n\\t\\t<div id=\"left-navigation\">\\n\\t\\t\\t<!-- Please do not use role attribute as CSS selector, it is deprecated. -->\\n<nav id=\"p-namespaces\" class=\"vector-menu vector-menu-tabs vectorTabs\" aria-labelledby=\"p-namespaces-label\" role=\"navigation\" \\n\\t >\\n\\t<h3 id=\"p-namespaces-label\">\\n\\t\\t<span>Namespaces</span>\\n\\t</h3>\\n\\t<!-- Please do not use the .body class, it is deprecated. -->\\n\\t<div class=\"body vector-menu-content\">\\n\\t\\t<!-- Please do not use the .menu class, it is deprecated. -->\\n\\t\\t<ul class=\"vector-menu-content-list\"><li id=\"ca-nstab-main\" class=\"selected\"><a href=\"/wiki/List_of_postal_codes_of_Canada:_M\" title=\"View the content page [c]\" accesskey=\"c\">Article</a></li><li id=\"ca-talk\"><a href=\"/wiki/Talk:List_of_postal_codes_of_Canada:_M\" rel=\"discussion\" title=\"Discuss improvements to the content page [t]\" accesskey=\"t\">Talk</a></li></ul>\\n\\t\\t\\n\\t</div>\\n</nav>\\n\\n\\t\\t\\t<!-- Please do not use role attribute as CSS selector, it is deprecated. -->\\n<nav id=\"p-variants\" class=\"vector-menu-empty emptyPortlet vector-menu vector-menu-dropdown vectorMenu\" aria-labelledby=\"p-variants-label\" role=\"navigation\" \\n\\t >\\n\\t<input type=\"checkbox\" class=\"vector-menu-checkbox vectorMenuCheckbox\" aria-labelledby=\"p-variants-label\" />\\n\\t<h3 id=\"p-variants-label\">\\n\\t\\t<span>Variants</span>\\n\\t</h3>\\n\\t<!-- Please do not use the .body class, it is deprecated. -->\\n\\t<div class=\"body vector-menu-content\">\\n\\t\\t<!-- Please do not use the .menu class, it is deprecated. -->\\n\\t\\t<ul class=\"menu vector-menu-content-list\"></ul>\\n\\t\\t\\n\\t</div>\\n</nav>\\n\\n\\t\\t</div>\\n\\t\\t<div id=\"right-navigation\">\\n\\t\\t\\t<!-- Please do not use role attribute as CSS selector, it is deprecated. -->\\n<nav id=\"p-views\" class=\"vector-menu vector-menu-tabs vectorTabs\" aria-labelledby=\"p-views-label\" role=\"navigation\" \\n\\t >\\n\\t<h3 id=\"p-views-label\">\\n\\t\\t<span>Views</span>\\n\\t</h3>\\n\\t<!-- Please do not use the .body class, it is deprecated. -->\\n\\t<div class=\"body vector-menu-content\">\\n\\t\\t<!-- Please do not use the .menu class, it is deprecated. -->\\n\\t\\t<ul class=\"vector-menu-content-list\"><li id=\"ca-view\" class=\"selected\"><a href=\"/wiki/List_of_postal_codes_of_Canada:_M\">Read</a></li><li id=\"ca-edit\"><a href=\"/w/index.php?title=List_of_postal_codes_of_Canada:_M&amp;action=edit\" title=\"Edit this page [e]\" accesskey=\"e\">Edit</a></li><li id=\"ca-history\"><a href=\"/w/index.php?title=List_of_postal_codes_of_Canada:_M&amp;action=history\" title=\"Past revisions of this page [h]\" accesskey=\"h\">View history</a></li></ul>\\n\\t\\t\\n\\t</div>\\n</nav>\\n\\n\\t\\t\\t<!-- Please do not use role attribute as CSS selector, it is deprecated. -->\\n<nav id=\"p-cactions\" class=\"vector-menu-empty emptyPortlet vector-menu vector-menu-dropdown vectorMenu\" aria-labelledby=\"p-cactions-label\" role=\"navigation\" \\n\\t >\\n\\t<input type=\"checkbox\" class=\"vector-menu-checkbox vectorMenuCheckbox\" aria-labelledby=\"p-cactions-label\" />\\n\\t<h3 id=\"p-cactions-label\">\\n\\t\\t<span>More</span>\\n\\t</h3>\\n\\t<!-- Please do not use the .body class, it is deprecated. -->\\n\\t<div class=\"body vector-menu-content\">\\n\\t\\t<!-- Please do not use the .menu class, it is deprecated. -->\\n\\t\\t<ul class=\"menu vector-menu-content-list\"></ul>\\n\\t\\t\\n\\t</div>\\n</nav>\\n\\n\\t\\t\\t<div id=\"p-search\" role=\"search\">\\n\\t<h3 >\\n\\t\\t<label for=\"searchInput\">Search</label>\\n\\t</h3>\\n\\t<form action=\"/w/index.php\" id=\"searchform\">\\n\\t\\t<div id=\"simpleSearch\">\\n\\t\\t\\t<input type=\"search\" name=\"search\" placeholder=\"Search Wikipedia\" title=\"Search Wikipedia [f]\" accesskey=\"f\" id=\"searchInput\"/>\\n\\t\\t\\t<input type=\"hidden\" name=\"title\" value=\"Special:Search\">\\n\\t\\t\\t<input type=\"submit\" name=\"fulltext\" value=\"Search\" title=\"Search Wikipedia for this text\" id=\"mw-searchButton\" class=\"searchButton mw-fallbackSearchButton\"/>\\n\\t\\t\\t<input type=\"submit\" name=\"go\" value=\"Go\" title=\"Go to a page with this exact name if it exists\" id=\"searchButton\" class=\"searchButton\"/>\\n\\t\\t</div>\\n\\t</form>\\n</div>\\n\\n\\t\\t</div>\\n\\t</div>\\n\\t\\n<div id=\"mw-panel\">\\n\\t<div id=\"p-logo\" role=\"banner\">\\n\\t\\t<a  title=\"Visit the main page\" class=\"mw-wiki-logo\" href=\"/wiki/Main_Page\"></a>\\n\\t</div>\\n\\t<!-- Please do not use role attribute as CSS selector, it is deprecated. -->\\n<nav id=\"p-navigation\" class=\"vector-menu vector-menu-portal portal portal-first\" aria-labelledby=\"p-navigation-label\" role=\"navigation\" \\n\\t >\\n\\t<h3 id=\"p-navigation-label\">\\n\\t\\t<span>Navigation</span>\\n\\t</h3>\\n\\t<!-- Please do not use the .body class, it is deprecated. -->\\n\\t<div class=\"body vector-menu-content\">\\n\\t\\t<!-- Please do not use the .menu class, it is deprecated. -->\\n\\t\\t<ul class=\"vector-menu-content-list\"><li id=\"n-mainpage-description\"><a href=\"/wiki/Main_Page\" title=\"Visit the main page [z]\" accesskey=\"z\">Main page</a></li><li id=\"n-contents\"><a href=\"/wiki/Wikipedia:Contents\" title=\"Guides to browsing Wikipedia\">Contents</a></li><li id=\"n-currentevents\"><a href=\"/wiki/Portal:Current_events\" title=\"Find background information on current events\">Current events</a></li><li id=\"n-randompage\"><a href=\"/wiki/Special:Random\" title=\"Visit a randomly selected article [x]\" accesskey=\"x\">Random article</a></li><li id=\"n-aboutsite\"><a href=\"/wiki/Wikipedia:About\" title=\"Learn about Wikipedia and how it works\">About Wikipedia</a></li><li id=\"n-contactpage\"><a href=\"//en.wikipedia.org/wiki/Wikipedia:Contact_us\" title=\"How to contact Wikipedia\">Contact us</a></li><li id=\"n-sitesupport\"><a href=\"https://donate.wikimedia.org/wiki/Special:FundraiserRedirector?utm_source=donate&amp;utm_medium=sidebar&amp;utm_campaign=C13_en.wikipedia.org&amp;uselang=en\" title=\"Support us by donating to the Wikimedia Foundation\">Donate</a></li><li id=\"n-shoplink\"><a href=\"//shop.wikimedia.org\" title=\"Visit the Wikipedia store\">Wikipedia store</a></li></ul>\\n\\t\\t\\n\\t</div>\\n</nav>\\n\\n\\t<!-- Please do not use role attribute as CSS selector, it is deprecated. -->\\n<nav id=\"p-interaction\" class=\"vector-menu vector-menu-portal portal\" aria-labelledby=\"p-interaction-label\" role=\"navigation\" \\n\\t >\\n\\t<h3 id=\"p-interaction-label\">\\n\\t\\t<span>Contribute</span>\\n\\t</h3>\\n\\t<!-- Please do not use the .body class, it is deprecated. -->\\n\\t<div class=\"body vector-menu-content\">\\n\\t\\t<!-- Please do not use the .menu class, it is deprecated. -->\\n\\t\\t<ul class=\"vector-menu-content-list\"><li id=\"n-help\"><a href=\"/wiki/Help:Contents\" title=\"Guidance on how to use and edit Wikipedia\">Help</a></li><li id=\"n-portal\"><a href=\"/wiki/Wikipedia:Community_portal\" title=\"About the project, what you can do, where to find things\">Community portal</a></li><li id=\"n-recentchanges\"><a href=\"/wiki/Special:RecentChanges\" title=\"A list of recent changes to Wikipedia [r]\" accesskey=\"r\">Recent changes</a></li><li id=\"n-upload\"><a href=\"/wiki/Wikipedia:File_Upload_Wizard\" title=\"Add images or other media for use on Wikipedia\">Upload file</a></li></ul>\\n\\t\\t\\n\\t</div>\\n</nav>\\n<!-- Please do not use role attribute as CSS selector, it is deprecated. -->\\n<nav id=\"p-tb\" class=\"vector-menu vector-menu-portal portal\" aria-labelledby=\"p-tb-label\" role=\"navigation\" \\n\\t >\\n\\t<h3 id=\"p-tb-label\">\\n\\t\\t<span>Tools</span>\\n\\t</h3>\\n\\t<!-- Please do not use the .body class, it is deprecated. -->\\n\\t<div class=\"body vector-menu-content\">\\n\\t\\t<!-- Please do not use the .menu class, it is deprecated. -->\\n\\t\\t<ul class=\"vector-menu-content-list\"><li id=\"t-whatlinkshere\"><a href=\"/wiki/Special:WhatLinksHere/List_of_postal_codes_of_Canada:_M\" title=\"List of all English Wikipedia pages containing links to this page [j]\" accesskey=\"j\">What links here</a></li><li id=\"t-recentchangeslinked\"><a href=\"/wiki/Special:RecentChangesLinked/List_of_postal_codes_of_Canada:_M\" rel=\"nofollow\" title=\"Recent changes in pages linked from this page [k]\" accesskey=\"k\">Related changes</a></li><li id=\"t-upload\"><a href=\"/wiki/Wikipedia:File_Upload_Wizard\" title=\"Upload files [u]\" accesskey=\"u\">Upload file</a></li><li id=\"t-specialpages\"><a href=\"/wiki/Special:SpecialPages\" title=\"A list of all special pages [q]\" accesskey=\"q\">Special pages</a></li><li id=\"t-permalink\"><a href=\"/w/index.php?title=List_of_postal_codes_of_Canada:_M&amp;oldid=969510799\" title=\"Permanent link to this revision of this page\">Permanent link</a></li><li id=\"t-info\"><a href=\"/w/index.php?title=List_of_postal_codes_of_Canada:_M&amp;action=info\" title=\"More information about this page\">Page information</a></li><li id=\"t-cite\"><a href=\"/w/index.php?title=Special:CiteThisPage&amp;page=List_of_postal_codes_of_Canada%3A_M&amp;id=969510799&amp;wpFormIdentifier=titleform\" title=\"Information on how to cite this page\">Cite this page</a></li><li id=\"t-wikibase\"><a href=\"https://www.wikidata.org/wiki/Special:EntityPage/Q3248240\" title=\"Structured data on this page hosted by Wikidata [g]\" accesskey=\"g\">Wikidata item</a></li></ul>\\n\\t\\t\\n\\t</div>\\n</nav>\\n<!-- Please do not use role attribute as CSS selector, it is deprecated. -->\\n<nav id=\"p-coll-print_export\" class=\"vector-menu vector-menu-portal portal\" aria-labelledby=\"p-coll-print_export-label\" role=\"navigation\" \\n\\t >\\n\\t<h3 id=\"p-coll-print_export-label\">\\n\\t\\t<span>Print/export</span>\\n\\t</h3>\\n\\t<!-- Please do not use the .body class, it is deprecated. -->\\n\\t<div class=\"body vector-menu-content\">\\n\\t\\t<!-- Please do not use the .menu class, it is deprecated. -->\\n\\t\\t<ul class=\"vector-menu-content-list\"><li id=\"coll-download-as-rl\"><a href=\"/w/index.php?title=Special:ElectronPdf&amp;page=List+of+postal+codes+of+Canada%3A+M&amp;action=show-download-screen\" title=\"Download this page as a PDF file\">Download as PDF</a></li><li id=\"t-print\"><a href=\"/w/index.php?title=List_of_postal_codes_of_Canada:_M&amp;printable=yes\" title=\"Printable version of this page [p]\" accesskey=\"p\">Printable version</a></li></ul>\\n\\t\\t\\n\\t</div>\\n</nav>\\n\\n\\t<!-- Please do not use role attribute as CSS selector, it is deprecated. -->\\n<nav id=\"p-lang\" class=\"vector-menu vector-menu-portal portal\" aria-labelledby=\"p-lang-label\" role=\"navigation\" \\n\\t >\\n\\t<h3 id=\"p-lang-label\">\\n\\t\\t<span>Languages</span>\\n\\t</h3>\\n\\t<!-- Please do not use the .body class, it is deprecated. -->\\n\\t<div class=\"body vector-menu-content\">\\n\\t\\t<!-- Please do not use the .menu class, it is deprecated. -->\\n\\t\\t<ul class=\"vector-menu-content-list\"><li class=\"interlanguage-link interwiki-fr\"><a href=\"https://fr.wikipedia.org/wiki/Liste_des_codes_postaux_canadiens_d%C3%A9butant_par_M\" title=\"Liste des codes postaux canadiens d\\xc3\\xa9butant par M \\xe2\\x80\\x93 French\" lang=\"fr\" hreflang=\"fr\" class=\"interlanguage-link-target\">Fran\\xc3\\xa7ais</a></li></ul>\\n\\t\\t<div class=\"after-portlet after-portlet-lang\"><span class=\"wb-langlinks-edit wb-langlinks-link\"><a href=\"https://www.wikidata.org/wiki/Special:EntityPage/Q3248240#sitelinks-wikipedia\" title=\"Edit interlanguage links\" class=\"wbc-editpage\">Edit links</a></span></div>\\n\\t</div>\\n</nav>\\n\\n</div>\\n\\n</div>\\n\\n<footer id=\"footer\" class=\"mw-footer\" role=\"contentinfo\" >\\n\\t<ul id=\"footer-info\" >\\n\\t\\t<li id=\"footer-info-lastmod\"> This page was last edited on 25 July 2020, at 21:43<span class=\"anonymous-show\">&#160;(UTC)</span>.</li>\\n\\t\\t<li id=\"footer-info-copyright\">Text is available under the <a rel=\"license\" href=\"//en.wikipedia.org/wiki/Wikipedia:Text_of_Creative_Commons_Attribution-ShareAlike_3.0_Unported_License\">Creative Commons Attribution-ShareAlike License</a><a rel=\"license\" href=\"//creativecommons.org/licenses/by-sa/3.0/\" style=\"display:none;\"></a>;\\nadditional terms may apply.  By using this site, you agree to the <a href=\"//foundation.wikimedia.org/wiki/Terms_of_Use\">Terms of Use</a> and <a href=\"//foundation.wikimedia.org/wiki/Privacy_policy\">Privacy Policy</a>. Wikipedia\\xc2\\xae is a registered trademark of the <a href=\"//www.wikimediafoundation.org/\">Wikimedia Foundation, Inc.</a>, a non-profit organization.</li>\\n\\t</ul>\\n\\t<ul id=\"footer-places\" >\\n\\t\\t<li id=\"footer-places-privacy\"><a href=\"https://foundation.wikimedia.org/wiki/Privacy_policy\" class=\"extiw\" title=\"wmf:Privacy policy\">Privacy policy</a></li>\\n\\t\\t<li id=\"footer-places-about\"><a href=\"/wiki/Wikipedia:About\" title=\"Wikipedia:About\">About Wikipedia</a></li>\\n\\t\\t<li id=\"footer-places-disclaimer\"><a href=\"/wiki/Wikipedia:General_disclaimer\" title=\"Wikipedia:General disclaimer\">Disclaimers</a></li>\\n\\t\\t<li id=\"footer-places-contact\"><a href=\"//en.wikipedia.org/wiki/Wikipedia:Contact_us\">Contact Wikipedia</a></li>\\n\\t\\t<li id=\"footer-places-developers\"><a href=\"https://www.mediawiki.org/wiki/Special:MyLanguage/How_to_contribute\">Developers</a></li>\\n\\t\\t<li id=\"footer-places-statslink\"><a href=\"https://stats.wikimedia.org/#/en.wikipedia.org\">Statistics</a></li>\\n\\t\\t<li id=\"footer-places-cookiestatement\"><a href=\"https://foundation.wikimedia.org/wiki/Cookie_statement\">Cookie statement</a></li>\\n\\t\\t<li id=\"footer-places-mobileview\"><a href=\"//en.m.wikipedia.org/w/index.php?title=List_of_postal_codes_of_Canada:_M&amp;mobileaction=toggle_view_mobile\" class=\"noprint stopMobileRedirectToggle\">Mobile view</a></li>\\n\\t</ul>\\n\\t<ul id=\"footer-icons\" class=\"noprint\">\\n\\t\\t<li id=\"footer-copyrightico\"><a href=\"https://wikimediafoundation.org/\"><img src=\"/static/images/footer/wikimedia-button.png\" srcset=\"/static/images/footer/wikimedia-button-1.5x.png 1.5x, /static/images/footer/wikimedia-button-2x.png 2x\" width=\"88\" height=\"31\" alt=\"Wikimedia Foundation\" loading=\"lazy\" /></a></li>\\n\\t\\t<li id=\"footer-poweredbyico\"><a href=\"https://www.mediawiki.org/\"><img src=\"/static/images/footer/poweredby_mediawiki_88x31.png\" alt=\"Powered by MediaWiki\" srcset=\"/static/images/footer/poweredby_mediawiki_132x47.png 1.5x, /static/images/footer/poweredby_mediawiki_176x62.png 2x\" width=\"88\" height=\"31\" loading=\"lazy\"/></a></li>\\n\\t</ul>\\n\\t<div style=\"clear: both;\"></div>\\n</footer>\\n\\n\\n<script>(RLQ=window.RLQ||[]).push(function(){mw.config.set({\"wgPageParseReport\":{\"limitreport\":{\"cputime\":\"0.172\",\"walltime\":\"0.237\",\"ppvisitednodes\":{\"value\":281,\"limit\":1000000},\"postexpandincludesize\":{\"value\":10828,\"limit\":2097152},\"templateargumentsize\":{\"value\":275,\"limit\":2097152},\"expansiondepth\":{\"value\":8,\"limit\":40},\"expensivefunctioncount\":{\"value\":0,\"limit\":500},\"unstrip-depth\":{\"value\":1,\"limit\":20},\"unstrip-size\":{\"value\":11806,\"limit\":5000000},\"entityaccesscount\":{\"value\":0,\"limit\":400},\"timingprofile\":[\"100.00%  190.620      1 -total\",\" 49.31%   93.993      3 Template:Cite_web\",\" 42.57%   81.154      1 Template:Short_description\",\" 25.61%   48.809      1 Template:Pagetype\",\"  8.88%   16.929      2 Template:Main_other\",\"  6.30%   12.012      1 Template:SDcat\",\"  3.23%    6.163      1 Template:Canadian_postal_codes\"]},\"scribunto\":{\"limitreport-timeusage\":{\"value\":\"0.086\",\"limit\":\"10.000\"},\"limitreport-memusage\":{\"value\":2540334,\"limit\":52428800}},\"cachereport\":{\"origin\":\"mw1407\",\"timestamp\":\"20200807005646\",\"ttl\":2592000,\"transientcontent\":false}}});});</script>\\n<script type=\"application/ld+json\">{\"@context\":\"https:\\\\/\\\\/schema.org\",\"@type\":\"Article\",\"name\":\"List of postal codes of Canada: M\",\"url\":\"https:\\\\/\\\\/en.wikipedia.org\\\\/wiki\\\\/List_of_postal_codes_of_Canada:_M\",\"sameAs\":\"http:\\\\/\\\\/www.wikidata.org\\\\/entity\\\\/Q3248240\",\"mainEntity\":\"http:\\\\/\\\\/www.wikidata.org\\\\/entity\\\\/Q3248240\",\"author\":{\"@type\":\"Organization\",\"name\":\"Contributors to Wikimedia projects\"},\"publisher\":{\"@type\":\"Organization\",\"name\":\"Wikimedia Foundation, Inc.\",\"logo\":{\"@type\":\"ImageObject\",\"url\":\"https:\\\\/\\\\/www.wikimedia.org\\\\/static\\\\/images\\\\/wmf-hor-googpub.png\"}},\"datePublished\":\"2004-03-20T10:02:13Z\",\"dateModified\":\"2020-07-25T21:43:11Z\",\"headline\":\"Wikimedia list article\"}</script>\\n<script>(RLQ=window.RLQ||[]).push(function(){mw.config.set({\"wgBackendResponseTime\":103,\"wgHostname\":\"mw1387\"});});</script>\\n</body></html>'"
            ]
          },
          "metadata": {
            "tags": []
          },
          "execution_count": 10
        }
      ]
    },
    {
      "cell_type": "markdown",
      "metadata": {
        "id": "p0X_g_U63sK6",
        "colab_type": "text"
      },
      "source": [
        "**Creating a Manageble form of the content using BeautifulSoup**"
      ]
    },
    {
      "cell_type": "code",
      "metadata": {
        "id": "sGBwiC-a4P5s",
        "colab_type": "code",
        "colab": {}
      },
      "source": [
        "soup = bs(content,\"lxml\")"
      ],
      "execution_count": 12,
      "outputs": []
    },
    {
      "cell_type": "markdown",
      "metadata": {
        "id": "ujuG6K4_ut5q",
        "colab_type": "text"
      },
      "source": [
        "**Data Wrangling to get only the important features**"
      ]
    },
    {
      "cell_type": "code",
      "metadata": {
        "id": "dDPGB4_O4TUy",
        "colab_type": "code",
        "colab": {}
      },
      "source": [
        "info = soup.find_all('td') #getting everything with td tag\n",
        "everything= []\n",
        "postal_code = [] \n",
        "borough = []\n",
        "neighbourhood = []\n",
        "for i in info:\n",
        "  information = str(i)[4:-6] # removing td from the front and the start leaving us with exact data of interest\n",
        "  everything.append(information) # storing all the important information in 'everything'\n",
        "  "
      ],
      "execution_count": 128,
      "outputs": []
    },
    {
      "cell_type": "code",
      "metadata": {
        "id": "Os7dn08HJqYJ",
        "colab_type": "code",
        "colab": {}
      },
      "source": [
        "# from a little observation we see the data comes in batches of 3\n",
        "for i in range(int(len(everything)/3)):\n",
        "  if len(everything[3*i]) > 3: #as important information is stored after and with postal codes as observed\n",
        "    break # if the length of the information is more than 3 we break, as we dont have any relevant info after finishing of postal codes in the table\n",
        "  else:\n",
        "    postal_code.append(everything[3*i])\n",
        "    borough.append(everything[1+3*i])\n",
        "    neighbourhood.append(everything[2+3*i])\n",
        "\n",
        "\n",
        "    "
      ],
      "execution_count": 129,
      "outputs": []
    },
    {
      "cell_type": "markdown",
      "metadata": {
        "id": "57r24qg5QCXo",
        "colab_type": "text"
      },
      "source": [
        "**Converting into Pandas DataFrame**"
      ]
    },
    {
      "cell_type": "code",
      "metadata": {
        "id": "yrQEkrVfrEqE",
        "colab_type": "code",
        "colab": {}
      },
      "source": [
        "df = pd.DataFrame({\n",
        "    \"Postal Code\": postal_code,\n",
        "    \"Borough\": borough,\n",
        "    \"Neighborhood\": neighbourhood\n",
        "},columns = [\"Postal Code\",\"Borough\",\"Neighborhood\"])"
      ],
      "execution_count": 134,
      "outputs": []
    },
    {
      "cell_type": "code",
      "metadata": {
        "id": "C86rSFukwkt_",
        "colab_type": "code",
        "colab": {
          "base_uri": "https://localhost:8080/",
          "height": 419
        },
        "outputId": "b8f32a89-f44c-48ae-a269-b1989322ca8a"
      },
      "source": [
        "df # Looking at our newly formed dataframe"
      ],
      "execution_count": 135,
      "outputs": [
        {
          "output_type": "execute_result",
          "data": {
            "text/html": [
              "<div>\n",
              "<style scoped>\n",
              "    .dataframe tbody tr th:only-of-type {\n",
              "        vertical-align: middle;\n",
              "    }\n",
              "\n",
              "    .dataframe tbody tr th {\n",
              "        vertical-align: top;\n",
              "    }\n",
              "\n",
              "    .dataframe thead th {\n",
              "        text-align: right;\n",
              "    }\n",
              "</style>\n",
              "<table border=\"1\" class=\"dataframe\">\n",
              "  <thead>\n",
              "    <tr style=\"text-align: right;\">\n",
              "      <th></th>\n",
              "      <th>Postal Code</th>\n",
              "      <th>Borough</th>\n",
              "      <th>Neighborhood</th>\n",
              "    </tr>\n",
              "  </thead>\n",
              "  <tbody>\n",
              "    <tr>\n",
              "      <th>0</th>\n",
              "      <td>M1A</td>\n",
              "      <td>Not assigned</td>\n",
              "      <td>Not assigned</td>\n",
              "    </tr>\n",
              "    <tr>\n",
              "      <th>1</th>\n",
              "      <td>M2A</td>\n",
              "      <td>Not assigned</td>\n",
              "      <td>Not assigned</td>\n",
              "    </tr>\n",
              "    <tr>\n",
              "      <th>2</th>\n",
              "      <td>M3A</td>\n",
              "      <td>North York</td>\n",
              "      <td>Parkwoods</td>\n",
              "    </tr>\n",
              "    <tr>\n",
              "      <th>3</th>\n",
              "      <td>M4A</td>\n",
              "      <td>North York</td>\n",
              "      <td>Victoria Village</td>\n",
              "    </tr>\n",
              "    <tr>\n",
              "      <th>4</th>\n",
              "      <td>M5A</td>\n",
              "      <td>Downtown Toronto</td>\n",
              "      <td>Regent Park, Harbourfront</td>\n",
              "    </tr>\n",
              "    <tr>\n",
              "      <th>...</th>\n",
              "      <td>...</td>\n",
              "      <td>...</td>\n",
              "      <td>...</td>\n",
              "    </tr>\n",
              "    <tr>\n",
              "      <th>175</th>\n",
              "      <td>M5Z</td>\n",
              "      <td>Not assigned</td>\n",
              "      <td>Not assigned</td>\n",
              "    </tr>\n",
              "    <tr>\n",
              "      <th>176</th>\n",
              "      <td>M6Z</td>\n",
              "      <td>Not assigned</td>\n",
              "      <td>Not assigned</td>\n",
              "    </tr>\n",
              "    <tr>\n",
              "      <th>177</th>\n",
              "      <td>M7Z</td>\n",
              "      <td>Not assigned</td>\n",
              "      <td>Not assigned</td>\n",
              "    </tr>\n",
              "    <tr>\n",
              "      <th>178</th>\n",
              "      <td>M8Z</td>\n",
              "      <td>Etobicoke</td>\n",
              "      <td>Mimico NW, The Queensway West, South of Bloor,...</td>\n",
              "    </tr>\n",
              "    <tr>\n",
              "      <th>179</th>\n",
              "      <td>M9Z</td>\n",
              "      <td>Not assigned</td>\n",
              "      <td>Not assigned</td>\n",
              "    </tr>\n",
              "  </tbody>\n",
              "</table>\n",
              "<p>180 rows × 3 columns</p>\n",
              "</div>"
            ],
            "text/plain": [
              "    Postal Code  ...                                       Neighborhood\n",
              "0           M1A  ...                                       Not assigned\n",
              "1           M2A  ...                                       Not assigned\n",
              "2           M3A  ...                                          Parkwoods\n",
              "3           M4A  ...                                   Victoria Village\n",
              "4           M5A  ...                          Regent Park, Harbourfront\n",
              "..          ...  ...                                                ...\n",
              "175         M5Z  ...                                       Not assigned\n",
              "176         M6Z  ...                                       Not assigned\n",
              "177         M7Z  ...                                       Not assigned\n",
              "178         M8Z  ...  Mimico NW, The Queensway West, South of Bloor,...\n",
              "179         M9Z  ...                                       Not assigned\n",
              "\n",
              "[180 rows x 3 columns]"
            ]
          },
          "metadata": {
            "tags": []
          },
          "execution_count": 135
        }
      ]
    },
    {
      "cell_type": "markdown",
      "metadata": {
        "id": "MUTxdd_Nw6Qe",
        "colab_type": "text"
      },
      "source": [
        "**Removing unassigned rows**\n",
        "\n",
        "As we see there are a lot of unassigned rows, that are of no use, lets remove them."
      ]
    },
    {
      "cell_type": "code",
      "metadata": {
        "id": "kuvqdvt2xXnW",
        "colab_type": "code",
        "colab": {}
      },
      "source": [
        "Df = df[df.Neighborhood != 'Not assigned']\n",
        "Df = Df.reset_index(drop = True)"
      ],
      "execution_count": 139,
      "outputs": []
    },
    {
      "cell_type": "markdown",
      "metadata": {
        "id": "lGnRmXsJ0yOz",
        "colab_type": "text"
      },
      "source": [
        "*Lets check if any borough value is missing*"
      ]
    },
    {
      "cell_type": "code",
      "metadata": {
        "id": "22tSkF_W0JaR",
        "colab_type": "code",
        "colab": {
          "base_uri": "https://localhost:8080/",
          "height": 51
        },
        "outputId": "692d2589-a246-4444-c099-1e649197f94c"
      },
      "source": [
        "Df['Borough'].isnull().value_counts()"
      ],
      "execution_count": 142,
      "outputs": [
        {
          "output_type": "execute_result",
          "data": {
            "text/plain": [
              "False    103\n",
              "Name: Borough, dtype: int64"
            ]
          },
          "metadata": {
            "tags": []
          },
          "execution_count": 142
        }
      ]
    },
    {
      "cell_type": "markdown",
      "metadata": {
        "id": "nWQU7PgM0TM4",
        "colab_type": "text"
      },
      "source": [
        "*We see there is no Borough value which is missing, so our Table is complete.*"
      ]
    },
    {
      "cell_type": "markdown",
      "metadata": {
        "id": "LhOJp8fW8f8r",
        "colab_type": "text"
      },
      "source": [
        "**Checking the shape of our table**"
      ]
    },
    {
      "cell_type": "code",
      "metadata": {
        "id": "ieiJra_E8rDs",
        "colab_type": "code",
        "colab": {
          "base_uri": "https://localhost:8080/",
          "height": 34
        },
        "outputId": "3e7d482d-613a-4cfa-ff92-6b5774f3d1bf"
      },
      "source": [
        "Df.shape"
      ],
      "execution_count": 145,
      "outputs": [
        {
          "output_type": "execute_result",
          "data": {
            "text/plain": [
              "(103, 3)"
            ]
          },
          "metadata": {
            "tags": []
          },
          "execution_count": 145
        }
      ]
    },
    {
      "cell_type": "markdown",
      "metadata": {
        "id": "P72dQsGcAXyE",
        "colab_type": "text"
      },
      "source": [
        "**Showing furst five rows of the data obtained**"
      ]
    },
    {
      "cell_type": "code",
      "metadata": {
        "id": "v_QY0x-9AhdH",
        "colab_type": "code",
        "colab": {
          "base_uri": "https://localhost:8080/",
          "height": 204
        },
        "outputId": "6389716a-afbd-49b8-9ca0-dd191839f11c"
      },
      "source": [
        "Df.head()"
      ],
      "execution_count": 150,
      "outputs": [
        {
          "output_type": "execute_result",
          "data": {
            "text/html": [
              "<div>\n",
              "<style scoped>\n",
              "    .dataframe tbody tr th:only-of-type {\n",
              "        vertical-align: middle;\n",
              "    }\n",
              "\n",
              "    .dataframe tbody tr th {\n",
              "        vertical-align: top;\n",
              "    }\n",
              "\n",
              "    .dataframe thead th {\n",
              "        text-align: right;\n",
              "    }\n",
              "</style>\n",
              "<table border=\"1\" class=\"dataframe\">\n",
              "  <thead>\n",
              "    <tr style=\"text-align: right;\">\n",
              "      <th></th>\n",
              "      <th>Postal Code</th>\n",
              "      <th>Borough</th>\n",
              "      <th>Neighborhood</th>\n",
              "    </tr>\n",
              "  </thead>\n",
              "  <tbody>\n",
              "    <tr>\n",
              "      <th>0</th>\n",
              "      <td>M3A</td>\n",
              "      <td>North York</td>\n",
              "      <td>Parkwoods</td>\n",
              "    </tr>\n",
              "    <tr>\n",
              "      <th>1</th>\n",
              "      <td>M4A</td>\n",
              "      <td>North York</td>\n",
              "      <td>Victoria Village</td>\n",
              "    </tr>\n",
              "    <tr>\n",
              "      <th>2</th>\n",
              "      <td>M5A</td>\n",
              "      <td>Downtown Toronto</td>\n",
              "      <td>Regent Park, Harbourfront</td>\n",
              "    </tr>\n",
              "    <tr>\n",
              "      <th>3</th>\n",
              "      <td>M6A</td>\n",
              "      <td>North York</td>\n",
              "      <td>Lawrence Manor, Lawrence Heights</td>\n",
              "    </tr>\n",
              "    <tr>\n",
              "      <th>4</th>\n",
              "      <td>M7A</td>\n",
              "      <td>Downtown Toronto</td>\n",
              "      <td>Queen's Park, Ontario Provincial Government</td>\n",
              "    </tr>\n",
              "  </tbody>\n",
              "</table>\n",
              "</div>"
            ],
            "text/plain": [
              "  Postal Code           Borough                                 Neighborhood\n",
              "0         M3A        North York                                    Parkwoods\n",
              "1         M4A        North York                             Victoria Village\n",
              "2         M5A  Downtown Toronto                    Regent Park, Harbourfront\n",
              "3         M6A        North York             Lawrence Manor, Lawrence Heights\n",
              "4         M7A  Downtown Toronto  Queen's Park, Ontario Provincial Government"
            ]
          },
          "metadata": {
            "tags": []
          },
          "execution_count": 150
        }
      ]
    },
    {
      "cell_type": "markdown",
      "metadata": {
        "id": "U2j9mW1B2D5p",
        "colab_type": "text"
      },
      "source": [
        "**Using Geocoders to get the latitude and longitude**"
      ]
    },
    {
      "cell_type": "code",
      "metadata": {
        "id": "CfTQzmQw3UeR",
        "colab_type": "code",
        "colab": {
          "base_uri": "https://localhost:8080/",
          "height": 343
        },
        "outputId": "1e04188b-9c7b-4ebd-b775-0e7e64cd6ab2"
      },
      "source": [
        "!pip install geocoder\n",
        "!pip install geopy"
      ],
      "execution_count": 144,
      "outputs": [
        {
          "output_type": "stream",
          "text": [
            "Collecting geocoder\n",
            "\u001b[?25l  Downloading https://files.pythonhosted.org/packages/4f/6b/13166c909ad2f2d76b929a4227c952630ebaf0d729f6317eb09cbceccbab/geocoder-1.38.1-py2.py3-none-any.whl (98kB)\n",
            "\r\u001b[K     |███▎                            | 10kB 17.9MB/s eta 0:00:01\r\u001b[K     |██████▋                         | 20kB 1.7MB/s eta 0:00:01\r\u001b[K     |██████████                      | 30kB 2.2MB/s eta 0:00:01\r\u001b[K     |█████████████▎                  | 40kB 2.5MB/s eta 0:00:01\r\u001b[K     |████████████████▋               | 51kB 2.0MB/s eta 0:00:01\r\u001b[K     |████████████████████            | 61kB 2.2MB/s eta 0:00:01\r\u001b[K     |███████████████████████▎        | 71kB 2.5MB/s eta 0:00:01\r\u001b[K     |██████████████████████████▋     | 81kB 2.7MB/s eta 0:00:01\r\u001b[K     |██████████████████████████████  | 92kB 2.8MB/s eta 0:00:01\r\u001b[K     |████████████████████████████████| 102kB 2.3MB/s \n",
            "\u001b[?25hRequirement already satisfied: six in /usr/local/lib/python3.6/dist-packages (from geocoder) (1.15.0)\n",
            "Collecting ratelim\n",
            "  Downloading https://files.pythonhosted.org/packages/f2/98/7e6d147fd16a10a5f821db6e25f192265d6ecca3d82957a4fdd592cad49c/ratelim-0.1.6-py2.py3-none-any.whl\n",
            "Requirement already satisfied: future in /usr/local/lib/python3.6/dist-packages (from geocoder) (0.16.0)\n",
            "Requirement already satisfied: click in /usr/local/lib/python3.6/dist-packages (from geocoder) (7.1.2)\n",
            "Requirement already satisfied: requests in /usr/local/lib/python3.6/dist-packages (from geocoder) (2.23.0)\n",
            "Requirement already satisfied: decorator in /usr/local/lib/python3.6/dist-packages (from ratelim->geocoder) (4.4.2)\n",
            "Requirement already satisfied: urllib3!=1.25.0,!=1.25.1,<1.26,>=1.21.1 in /usr/local/lib/python3.6/dist-packages (from requests->geocoder) (1.24.3)\n",
            "Requirement already satisfied: chardet<4,>=3.0.2 in /usr/local/lib/python3.6/dist-packages (from requests->geocoder) (3.0.4)\n",
            "Requirement already satisfied: certifi>=2017.4.17 in /usr/local/lib/python3.6/dist-packages (from requests->geocoder) (2020.6.20)\n",
            "Requirement already satisfied: idna<3,>=2.5 in /usr/local/lib/python3.6/dist-packages (from requests->geocoder) (2.10)\n",
            "Installing collected packages: ratelim, geocoder\n",
            "Successfully installed geocoder-1.38.1 ratelim-0.1.6\n",
            "Requirement already satisfied: geopy in /usr/local/lib/python3.6/dist-packages (1.17.0)\n",
            "Requirement already satisfied: geographiclib<2,>=1.49 in /usr/local/lib/python3.6/dist-packages (from geopy) (1.50)\n"
          ],
          "name": "stdout"
        }
      ]
    },
    {
      "cell_type": "code",
      "metadata": {
        "id": "NBPxWLK83ZSB",
        "colab_type": "code",
        "colab": {
          "base_uri": "https://localhost:8080/",
          "height": 442
        },
        "outputId": "a8405a6b-20cd-41f9-aa27-1e92efc0fa3e"
      },
      "source": [
        "import geocoder # import geocoder\n",
        "\n",
        "# initialize your variable to None\n",
        "lat_lng_coords = None\n",
        "\n",
        "# loop until you get the coordinates\n",
        "while(lat_lng_coords is None):\n",
        "  g = geocoder.google('{}, Toronto, Ontario'.format(postal_code))\n",
        "  lat_lng_coords = g.latlng\n",
        "\n",
        "latitude = lat_lng_coords[0]\n",
        "longitude = lat_lng_coords[1]"
      ],
      "execution_count": 146,
      "outputs": [
        {
          "output_type": "error",
          "ename": "KeyboardInterrupt",
          "evalue": "ignored",
          "traceback": [
            "\u001b[0;31m---------------------------------------------------------------------------\u001b[0m",
            "\u001b[0;31mKeyboardInterrupt\u001b[0m                         Traceback (most recent call last)",
            "\u001b[0;32m<ipython-input-146-15d80b1bb123>\u001b[0m in \u001b[0;36m<module>\u001b[0;34m()\u001b[0m\n\u001b[1;32m      6\u001b[0m \u001b[0;31m# loop until you get the coordinates\u001b[0m\u001b[0;34m\u001b[0m\u001b[0;34m\u001b[0m\u001b[0;34m\u001b[0m\u001b[0m\n\u001b[1;32m      7\u001b[0m \u001b[0;32mwhile\u001b[0m\u001b[0;34m(\u001b[0m\u001b[0mlat_lng_coords\u001b[0m \u001b[0;32mis\u001b[0m \u001b[0;32mNone\u001b[0m\u001b[0;34m)\u001b[0m\u001b[0;34m:\u001b[0m\u001b[0;34m\u001b[0m\u001b[0;34m\u001b[0m\u001b[0m\n\u001b[0;32m----> 8\u001b[0;31m   \u001b[0mg\u001b[0m \u001b[0;34m=\u001b[0m \u001b[0mgeocoder\u001b[0m\u001b[0;34m.\u001b[0m\u001b[0mgoogle\u001b[0m\u001b[0;34m(\u001b[0m\u001b[0;34m'{}, Toronto, Ontario'\u001b[0m\u001b[0;34m.\u001b[0m\u001b[0mformat\u001b[0m\u001b[0;34m(\u001b[0m\u001b[0mpostal_code\u001b[0m\u001b[0;34m)\u001b[0m\u001b[0;34m)\u001b[0m\u001b[0;34m\u001b[0m\u001b[0;34m\u001b[0m\u001b[0m\n\u001b[0m\u001b[1;32m      9\u001b[0m   \u001b[0mlat_lng_coords\u001b[0m \u001b[0;34m=\u001b[0m \u001b[0mg\u001b[0m\u001b[0;34m.\u001b[0m\u001b[0mlatlng\u001b[0m\u001b[0;34m\u001b[0m\u001b[0;34m\u001b[0m\u001b[0m\n\u001b[1;32m     10\u001b[0m \u001b[0;34m\u001b[0m\u001b[0m\n",
            "\u001b[0;32m/usr/local/lib/python3.6/dist-packages/geocoder/api.py\u001b[0m in \u001b[0;36mgoogle\u001b[0;34m(location, **kwargs)\u001b[0m\n\u001b[1;32m    230\u001b[0m         \u001b[0;34m>\u001b[0m \u001b[0melevation\u001b[0m\u001b[0;34m\u001b[0m\u001b[0;34m\u001b[0m\u001b[0m\n\u001b[1;32m    231\u001b[0m     \"\"\"\n\u001b[0;32m--> 232\u001b[0;31m     \u001b[0;32mreturn\u001b[0m \u001b[0mget\u001b[0m\u001b[0;34m(\u001b[0m\u001b[0mlocation\u001b[0m\u001b[0;34m,\u001b[0m \u001b[0mprovider\u001b[0m\u001b[0;34m=\u001b[0m\u001b[0;34m'google'\u001b[0m\u001b[0;34m,\u001b[0m \u001b[0;34m**\u001b[0m\u001b[0mkwargs\u001b[0m\u001b[0;34m)\u001b[0m\u001b[0;34m\u001b[0m\u001b[0;34m\u001b[0m\u001b[0m\n\u001b[0m\u001b[1;32m    233\u001b[0m \u001b[0;34m\u001b[0m\u001b[0m\n\u001b[1;32m    234\u001b[0m \u001b[0;34m\u001b[0m\u001b[0m\n",
            "\u001b[0;32m/usr/local/lib/python3.6/dist-packages/geocoder/api.py\u001b[0m in \u001b[0;36mget\u001b[0;34m(location, **kwargs)\u001b[0m\n\u001b[1;32m    196\u001b[0m         \u001b[0;32mif\u001b[0m \u001b[0mmethod\u001b[0m \u001b[0;32mnot\u001b[0m \u001b[0;32min\u001b[0m \u001b[0moptions\u001b[0m\u001b[0;34m[\u001b[0m\u001b[0mprovider\u001b[0m\u001b[0;34m]\u001b[0m\u001b[0;34m:\u001b[0m\u001b[0;34m\u001b[0m\u001b[0;34m\u001b[0m\u001b[0m\n\u001b[1;32m    197\u001b[0m             \u001b[0;32mraise\u001b[0m \u001b[0mValueError\u001b[0m\u001b[0;34m(\u001b[0m\u001b[0;34m\"Invalid method\"\u001b[0m\u001b[0;34m)\u001b[0m\u001b[0;34m\u001b[0m\u001b[0;34m\u001b[0m\u001b[0m\n\u001b[0;32m--> 198\u001b[0;31m     \u001b[0;32mreturn\u001b[0m \u001b[0moptions\u001b[0m\u001b[0;34m[\u001b[0m\u001b[0mprovider\u001b[0m\u001b[0;34m]\u001b[0m\u001b[0;34m[\u001b[0m\u001b[0mmethod\u001b[0m\u001b[0;34m]\u001b[0m\u001b[0;34m(\u001b[0m\u001b[0mlocation\u001b[0m\u001b[0;34m,\u001b[0m \u001b[0;34m**\u001b[0m\u001b[0mkwargs\u001b[0m\u001b[0;34m)\u001b[0m\u001b[0;34m\u001b[0m\u001b[0;34m\u001b[0m\u001b[0m\n\u001b[0m\u001b[1;32m    199\u001b[0m \u001b[0;34m\u001b[0m\u001b[0m\n\u001b[1;32m    200\u001b[0m \u001b[0;34m\u001b[0m\u001b[0m\n",
            "\u001b[0;32m/usr/local/lib/python3.6/dist-packages/geocoder/base.py\u001b[0m in \u001b[0;36m__init__\u001b[0;34m(self, location, **kwargs)\u001b[0m\n\u001b[1;32m    408\u001b[0m \u001b[0;34m\u001b[0m\u001b[0m\n\u001b[1;32m    409\u001b[0m         \u001b[0;31m# query and parse results\u001b[0m\u001b[0;34m\u001b[0m\u001b[0;34m\u001b[0m\u001b[0;34m\u001b[0m\u001b[0m\n\u001b[0;32m--> 410\u001b[0;31m         \u001b[0mself\u001b[0m\u001b[0;34m.\u001b[0m\u001b[0m_initialize\u001b[0m\u001b[0;34m(\u001b[0m\u001b[0;34m)\u001b[0m\u001b[0;34m\u001b[0m\u001b[0;34m\u001b[0m\u001b[0m\n\u001b[0m\u001b[1;32m    411\u001b[0m \u001b[0;34m\u001b[0m\u001b[0m\n\u001b[1;32m    412\u001b[0m     \u001b[0;32mdef\u001b[0m \u001b[0m__getitem__\u001b[0m\u001b[0;34m(\u001b[0m\u001b[0mself\u001b[0m\u001b[0;34m,\u001b[0m \u001b[0mkey\u001b[0m\u001b[0;34m)\u001b[0m\u001b[0;34m:\u001b[0m\u001b[0;34m\u001b[0m\u001b[0;34m\u001b[0m\u001b[0m\n",
            "\u001b[0;32m/usr/local/lib/python3.6/dist-packages/geocoder/base.py\u001b[0m in \u001b[0;36m_initialize\u001b[0;34m(self)\u001b[0m\n\u001b[1;32m    455\u001b[0m     \u001b[0;32mdef\u001b[0m \u001b[0m_initialize\u001b[0m\u001b[0;34m(\u001b[0m\u001b[0mself\u001b[0m\u001b[0;34m)\u001b[0m\u001b[0;34m:\u001b[0m\u001b[0;34m\u001b[0m\u001b[0;34m\u001b[0m\u001b[0m\n\u001b[1;32m    456\u001b[0m         \u001b[0;31m# query URL and get valid JSON (also stored in self.json)\u001b[0m\u001b[0;34m\u001b[0m\u001b[0;34m\u001b[0m\u001b[0;34m\u001b[0m\u001b[0m\n\u001b[0;32m--> 457\u001b[0;31m         \u001b[0mjson_response\u001b[0m \u001b[0;34m=\u001b[0m \u001b[0mself\u001b[0m\u001b[0;34m.\u001b[0m\u001b[0m_connect\u001b[0m\u001b[0;34m(\u001b[0m\u001b[0;34m)\u001b[0m\u001b[0;34m\u001b[0m\u001b[0;34m\u001b[0m\u001b[0m\n\u001b[0m\u001b[1;32m    458\u001b[0m \u001b[0;34m\u001b[0m\u001b[0m\n\u001b[1;32m    459\u001b[0m         \u001b[0;31m# catch errors\u001b[0m\u001b[0;34m\u001b[0m\u001b[0;34m\u001b[0m\u001b[0;34m\u001b[0m\u001b[0m\n",
            "\u001b[0;32m/usr/local/lib/python3.6/dist-packages/geocoder/base.py\u001b[0m in \u001b[0;36m_connect\u001b[0;34m(self)\u001b[0m\n\u001b[1;32m    482\u001b[0m                 \u001b[0mheaders\u001b[0m\u001b[0;34m=\u001b[0m\u001b[0mself\u001b[0m\u001b[0;34m.\u001b[0m\u001b[0mheaders\u001b[0m\u001b[0;34m,\u001b[0m\u001b[0;34m\u001b[0m\u001b[0;34m\u001b[0m\u001b[0m\n\u001b[1;32m    483\u001b[0m                 \u001b[0mtimeout\u001b[0m\u001b[0;34m=\u001b[0m\u001b[0mself\u001b[0m\u001b[0;34m.\u001b[0m\u001b[0mtimeout\u001b[0m\u001b[0;34m,\u001b[0m\u001b[0;34m\u001b[0m\u001b[0;34m\u001b[0m\u001b[0m\n\u001b[0;32m--> 484\u001b[0;31m                 \u001b[0mproxies\u001b[0m\u001b[0;34m=\u001b[0m\u001b[0mself\u001b[0m\u001b[0;34m.\u001b[0m\u001b[0mproxies\u001b[0m\u001b[0;34m\u001b[0m\u001b[0;34m\u001b[0m\u001b[0m\n\u001b[0m\u001b[1;32m    485\u001b[0m             )\n\u001b[1;32m    486\u001b[0m \u001b[0;34m\u001b[0m\u001b[0m\n",
            "\u001b[0;32m/usr/local/lib/python3.6/dist-packages/geocoder/google.py\u001b[0m in \u001b[0;36mrate_limited_get\u001b[0;34m(self, *args, **kwargs)\u001b[0m\n\u001b[1;32m    267\u001b[0m             \u001b[0;32mreturn\u001b[0m \u001b[0mself\u001b[0m\u001b[0;34m.\u001b[0m\u001b[0mrate_limited_get_for_work\u001b[0m\u001b[0;34m(\u001b[0m\u001b[0;34m*\u001b[0m\u001b[0margs\u001b[0m\u001b[0;34m,\u001b[0m \u001b[0;34m**\u001b[0m\u001b[0mkwargs\u001b[0m\u001b[0;34m)\u001b[0m\u001b[0;34m\u001b[0m\u001b[0;34m\u001b[0m\u001b[0m\n\u001b[1;32m    268\u001b[0m         \u001b[0;32melse\u001b[0m\u001b[0;34m:\u001b[0m\u001b[0;34m\u001b[0m\u001b[0;34m\u001b[0m\u001b[0m\n\u001b[0;32m--> 269\u001b[0;31m             \u001b[0;32mreturn\u001b[0m \u001b[0mself\u001b[0m\u001b[0;34m.\u001b[0m\u001b[0mrate_limited_get_for_dev\u001b[0m\u001b[0;34m(\u001b[0m\u001b[0;34m*\u001b[0m\u001b[0margs\u001b[0m\u001b[0;34m,\u001b[0m \u001b[0;34m**\u001b[0m\u001b[0mkwargs\u001b[0m\u001b[0;34m)\u001b[0m\u001b[0;34m\u001b[0m\u001b[0;34m\u001b[0m\u001b[0m\n\u001b[0m\u001b[1;32m    270\u001b[0m \u001b[0;34m\u001b[0m\u001b[0m\n\u001b[1;32m    271\u001b[0m     \u001b[0;34m@\u001b[0m\u001b[0mratelim\u001b[0m\u001b[0;34m.\u001b[0m\u001b[0mgreedy\u001b[0m\u001b[0;34m(\u001b[0m\u001b[0;36m2500\u001b[0m\u001b[0;34m,\u001b[0m \u001b[0;36m60\u001b[0m \u001b[0;34m*\u001b[0m \u001b[0;36m60\u001b[0m \u001b[0;34m*\u001b[0m \u001b[0;36m24\u001b[0m\u001b[0;34m)\u001b[0m\u001b[0;34m\u001b[0m\u001b[0;34m\u001b[0m\u001b[0m\n",
            "\u001b[0;32m<decorator-gen-126>\u001b[0m in \u001b[0;36mrate_limited_get_for_dev\u001b[0;34m(self, *args, **kwargs)\u001b[0m\n",
            "\u001b[0;32m/usr/local/lib/python3.6/dist-packages/ratelim/__init__.py\u001b[0m in \u001b[0;36mwrapped_f\u001b[0;34m(self, f, *args, **kwargs)\u001b[0m\n\u001b[1;32m     36\u001b[0m \u001b[0;34m\u001b[0m\u001b[0m\n\u001b[1;32m     37\u001b[0m         \u001b[0mself\u001b[0m\u001b[0;34m.\u001b[0m\u001b[0m__numcalls\u001b[0m \u001b[0;34m+=\u001b[0m \u001b[0;36m1\u001b[0m\u001b[0;34m\u001b[0m\u001b[0;34m\u001b[0m\u001b[0m\n\u001b[0;32m---> 38\u001b[0;31m         \u001b[0;32mreturn\u001b[0m \u001b[0mf\u001b[0m\u001b[0;34m(\u001b[0m\u001b[0;34m*\u001b[0m\u001b[0margs\u001b[0m\u001b[0;34m,\u001b[0m \u001b[0;34m**\u001b[0m\u001b[0mkwargs\u001b[0m\u001b[0;34m)\u001b[0m\u001b[0;34m\u001b[0m\u001b[0;34m\u001b[0m\u001b[0m\n\u001b[0m\u001b[1;32m     39\u001b[0m \u001b[0;34m\u001b[0m\u001b[0m\n\u001b[1;32m     40\u001b[0m     \u001b[0;32mdef\u001b[0m \u001b[0m__call__\u001b[0m\u001b[0;34m(\u001b[0m\u001b[0mself\u001b[0m\u001b[0;34m,\u001b[0m \u001b[0mf\u001b[0m\u001b[0;34m,\u001b[0m \u001b[0;34m*\u001b[0m\u001b[0margs\u001b[0m\u001b[0;34m,\u001b[0m \u001b[0;34m**\u001b[0m\u001b[0mkwargs\u001b[0m\u001b[0;34m)\u001b[0m\u001b[0;34m:\u001b[0m\u001b[0;34m\u001b[0m\u001b[0;34m\u001b[0m\u001b[0m\n",
            "\u001b[0;32m<decorator-gen-125>\u001b[0m in \u001b[0;36mrate_limited_get_for_dev\u001b[0;34m(self, *args, **kwargs)\u001b[0m\n",
            "\u001b[0;32m/usr/local/lib/python3.6/dist-packages/ratelim/__init__.py\u001b[0m in \u001b[0;36mwrapped_f\u001b[0;34m(self, f, *args, **kwargs)\u001b[0m\n\u001b[1;32m     31\u001b[0m             \u001b[0mtime_delta\u001b[0m \u001b[0;34m=\u001b[0m \u001b[0mint\u001b[0m\u001b[0;34m(\u001b[0m\u001b[0mtime_delta\u001b[0m\u001b[0;34m.\u001b[0m\u001b[0mtotal_seconds\u001b[0m\u001b[0;34m(\u001b[0m\u001b[0;34m)\u001b[0m\u001b[0;34m)\u001b[0m \u001b[0;34m+\u001b[0m \u001b[0;36m1\u001b[0m\u001b[0;34m\u001b[0m\u001b[0;34m\u001b[0m\u001b[0m\n\u001b[1;32m     32\u001b[0m             \u001b[0;32mif\u001b[0m \u001b[0mtime_delta\u001b[0m \u001b[0;34m<=\u001b[0m \u001b[0mself\u001b[0m\u001b[0;34m.\u001b[0m\u001b[0m__time_interval\u001b[0m\u001b[0;34m:\u001b[0m\u001b[0;34m\u001b[0m\u001b[0;34m\u001b[0m\u001b[0m\n\u001b[0;32m---> 33\u001b[0;31m                 \u001b[0mtime\u001b[0m\u001b[0;34m.\u001b[0m\u001b[0msleep\u001b[0m\u001b[0;34m(\u001b[0m\u001b[0mself\u001b[0m\u001b[0;34m.\u001b[0m\u001b[0m__time_interval\u001b[0m \u001b[0;34m-\u001b[0m \u001b[0mtime_delta\u001b[0m \u001b[0;34m+\u001b[0m \u001b[0;36m1\u001b[0m\u001b[0;34m)\u001b[0m\u001b[0;34m\u001b[0m\u001b[0;34m\u001b[0m\u001b[0m\n\u001b[0m\u001b[1;32m     34\u001b[0m                 \u001b[0mself\u001b[0m\u001b[0;34m.\u001b[0m\u001b[0m__numcalls\u001b[0m \u001b[0;34m=\u001b[0m \u001b[0;36m0\u001b[0m\u001b[0;34m\u001b[0m\u001b[0;34m\u001b[0m\u001b[0m\n\u001b[1;32m     35\u001b[0m                 \u001b[0mself\u001b[0m\u001b[0;34m.\u001b[0m\u001b[0m__last_reset\u001b[0m \u001b[0;34m=\u001b[0m \u001b[0mdatetime\u001b[0m\u001b[0;34m.\u001b[0m\u001b[0mdatetime\u001b[0m\u001b[0;34m.\u001b[0m\u001b[0mnow\u001b[0m\u001b[0;34m(\u001b[0m\u001b[0;34m)\u001b[0m\u001b[0;34m\u001b[0m\u001b[0;34m\u001b[0m\u001b[0m\n",
            "\u001b[0;31mKeyboardInterrupt\u001b[0m: "
          ]
        }
      ]
    },
    {
      "cell_type": "markdown",
      "metadata": {
        "id": "UtLSqTi6-ajj",
        "colab_type": "text"
      },
      "source": [
        "*As geocoder was taking too much time and was unable to give proper values, so lets use the csv file given instead*"
      ]
    },
    {
      "cell_type": "code",
      "metadata": {
        "id": "tPqvnMW6_NYL",
        "colab_type": "code",
        "colab": {
          "base_uri": "https://localhost:8080/",
          "height": 204
        },
        "outputId": "084881b8-0fc4-4deb-f5fb-ee8ea0762744"
      },
      "source": [
        "file = pd.read_csv(\"Geospatial_Coordinates.csv\")\n",
        "file.head()"
      ],
      "execution_count": 148,
      "outputs": [
        {
          "output_type": "execute_result",
          "data": {
            "text/html": [
              "<div>\n",
              "<style scoped>\n",
              "    .dataframe tbody tr th:only-of-type {\n",
              "        vertical-align: middle;\n",
              "    }\n",
              "\n",
              "    .dataframe tbody tr th {\n",
              "        vertical-align: top;\n",
              "    }\n",
              "\n",
              "    .dataframe thead th {\n",
              "        text-align: right;\n",
              "    }\n",
              "</style>\n",
              "<table border=\"1\" class=\"dataframe\">\n",
              "  <thead>\n",
              "    <tr style=\"text-align: right;\">\n",
              "      <th></th>\n",
              "      <th>Postal Code</th>\n",
              "      <th>Latitude</th>\n",
              "      <th>Longitude</th>\n",
              "    </tr>\n",
              "  </thead>\n",
              "  <tbody>\n",
              "    <tr>\n",
              "      <th>0</th>\n",
              "      <td>M1B</td>\n",
              "      <td>43.806686</td>\n",
              "      <td>-79.194353</td>\n",
              "    </tr>\n",
              "    <tr>\n",
              "      <th>1</th>\n",
              "      <td>M1C</td>\n",
              "      <td>43.784535</td>\n",
              "      <td>-79.160497</td>\n",
              "    </tr>\n",
              "    <tr>\n",
              "      <th>2</th>\n",
              "      <td>M1E</td>\n",
              "      <td>43.763573</td>\n",
              "      <td>-79.188711</td>\n",
              "    </tr>\n",
              "    <tr>\n",
              "      <th>3</th>\n",
              "      <td>M1G</td>\n",
              "      <td>43.770992</td>\n",
              "      <td>-79.216917</td>\n",
              "    </tr>\n",
              "    <tr>\n",
              "      <th>4</th>\n",
              "      <td>M1H</td>\n",
              "      <td>43.773136</td>\n",
              "      <td>-79.239476</td>\n",
              "    </tr>\n",
              "  </tbody>\n",
              "</table>\n",
              "</div>"
            ],
            "text/plain": [
              "  Postal Code   Latitude  Longitude\n",
              "0         M1B  43.806686 -79.194353\n",
              "1         M1C  43.784535 -79.160497\n",
              "2         M1E  43.763573 -79.188711\n",
              "3         M1G  43.770992 -79.216917\n",
              "4         M1H  43.773136 -79.239476"
            ]
          },
          "metadata": {
            "tags": []
          },
          "execution_count": 148
        }
      ]
    },
    {
      "cell_type": "code",
      "metadata": {
        "id": "4yfSjdHdADJB",
        "colab_type": "code",
        "colab": {
          "base_uri": "https://localhost:8080/",
          "height": 34
        },
        "outputId": "06c7ce7e-97da-4743-bce2-035b727be300"
      },
      "source": [
        "file.shape # checking the shape"
      ],
      "execution_count": 149,
      "outputs": [
        {
          "output_type": "execute_result",
          "data": {
            "text/plain": [
              "(103, 3)"
            ]
          },
          "metadata": {
            "tags": []
          },
          "execution_count": 149
        }
      ]
    },
    {
      "cell_type": "code",
      "metadata": {
        "id": "7C7gkgmGASqc",
        "colab_type": "code",
        "colab": {
          "base_uri": "https://localhost:8080/",
          "height": 51
        },
        "outputId": "02c2fcfc-ad2c-43e7-e334-74d7c7909187"
      },
      "source": [
        "file['Postal Code'].isin(Df['Postal Code']).value_counts() # all the postal codes we got are in the file as well"
      ],
      "execution_count": 151,
      "outputs": [
        {
          "output_type": "execute_result",
          "data": {
            "text/plain": [
              "True    103\n",
              "Name: Postal Code, dtype: int64"
            ]
          },
          "metadata": {
            "tags": []
          },
          "execution_count": 151
        }
      ]
    },
    {
      "cell_type": "markdown",
      "metadata": {
        "id": "3rbNqOjHBeak",
        "colab_type": "text"
      },
      "source": [
        "**Final Dataset**"
      ]
    },
    {
      "cell_type": "code",
      "metadata": {
        "id": "x0W7PVBwCCiN",
        "colab_type": "code",
        "colab": {}
      },
      "source": [
        "DF = pd.merge(Df, file[[\"Postal Code\",\"Latitude\",\"Longitude\"]], on = 'Postal Code')"
      ],
      "execution_count": 152,
      "outputs": []
    },
    {
      "cell_type": "code",
      "metadata": {
        "id": "2PoLU68MCIq9",
        "colab_type": "code",
        "colab": {
          "base_uri": "https://localhost:8080/",
          "height": 204
        },
        "outputId": "6259f467-8b53-41b0-8794-48e07b27cc03"
      },
      "source": [
        "DF.head()"
      ],
      "execution_count": 153,
      "outputs": [
        {
          "output_type": "execute_result",
          "data": {
            "text/html": [
              "<div>\n",
              "<style scoped>\n",
              "    .dataframe tbody tr th:only-of-type {\n",
              "        vertical-align: middle;\n",
              "    }\n",
              "\n",
              "    .dataframe tbody tr th {\n",
              "        vertical-align: top;\n",
              "    }\n",
              "\n",
              "    .dataframe thead th {\n",
              "        text-align: right;\n",
              "    }\n",
              "</style>\n",
              "<table border=\"1\" class=\"dataframe\">\n",
              "  <thead>\n",
              "    <tr style=\"text-align: right;\">\n",
              "      <th></th>\n",
              "      <th>Postal Code</th>\n",
              "      <th>Borough</th>\n",
              "      <th>Neighborhood</th>\n",
              "      <th>Latitude</th>\n",
              "      <th>Longitude</th>\n",
              "    </tr>\n",
              "  </thead>\n",
              "  <tbody>\n",
              "    <tr>\n",
              "      <th>0</th>\n",
              "      <td>M3A</td>\n",
              "      <td>North York</td>\n",
              "      <td>Parkwoods</td>\n",
              "      <td>43.753259</td>\n",
              "      <td>-79.329656</td>\n",
              "    </tr>\n",
              "    <tr>\n",
              "      <th>1</th>\n",
              "      <td>M4A</td>\n",
              "      <td>North York</td>\n",
              "      <td>Victoria Village</td>\n",
              "      <td>43.725882</td>\n",
              "      <td>-79.315572</td>\n",
              "    </tr>\n",
              "    <tr>\n",
              "      <th>2</th>\n",
              "      <td>M5A</td>\n",
              "      <td>Downtown Toronto</td>\n",
              "      <td>Regent Park, Harbourfront</td>\n",
              "      <td>43.654260</td>\n",
              "      <td>-79.360636</td>\n",
              "    </tr>\n",
              "    <tr>\n",
              "      <th>3</th>\n",
              "      <td>M6A</td>\n",
              "      <td>North York</td>\n",
              "      <td>Lawrence Manor, Lawrence Heights</td>\n",
              "      <td>43.718518</td>\n",
              "      <td>-79.464763</td>\n",
              "    </tr>\n",
              "    <tr>\n",
              "      <th>4</th>\n",
              "      <td>M7A</td>\n",
              "      <td>Downtown Toronto</td>\n",
              "      <td>Queen's Park, Ontario Provincial Government</td>\n",
              "      <td>43.662301</td>\n",
              "      <td>-79.389494</td>\n",
              "    </tr>\n",
              "  </tbody>\n",
              "</table>\n",
              "</div>"
            ],
            "text/plain": [
              "  Postal Code           Borough  ...   Latitude  Longitude\n",
              "0         M3A        North York  ...  43.753259 -79.329656\n",
              "1         M4A        North York  ...  43.725882 -79.315572\n",
              "2         M5A  Downtown Toronto  ...  43.654260 -79.360636\n",
              "3         M6A        North York  ...  43.718518 -79.464763\n",
              "4         M7A  Downtown Toronto  ...  43.662301 -79.389494\n",
              "\n",
              "[5 rows x 5 columns]"
            ]
          },
          "metadata": {
            "tags": []
          },
          "execution_count": 153
        }
      ]
    },
    {
      "cell_type": "markdown",
      "metadata": {
        "id": "xxTY6rFMCLCE",
        "colab_type": "text"
      },
      "source": [
        "**Downloading the Final Dataset for further use**"
      ]
    },
    {
      "cell_type": "code",
      "metadata": {
        "id": "hL1D6fLmClrc",
        "colab_type": "code",
        "colab": {
          "base_uri": "https://localhost:8080/",
          "height": 17
        },
        "outputId": "c7a94e05-b041-449d-b9e1-dcb3c405a7db"
      },
      "source": [
        "from google.colab import files\n",
        "files.download('Postal_codes_final.csv')"
      ],
      "execution_count": 155,
      "outputs": [
        {
          "output_type": "display_data",
          "data": {
            "application/javascript": [
              "\n",
              "    async function download(id, filename, size) {\n",
              "      if (!google.colab.kernel.accessAllowed) {\n",
              "        return;\n",
              "      }\n",
              "      const div = document.createElement('div');\n",
              "      const label = document.createElement('label');\n",
              "      label.textContent = `Downloading \"${filename}\": `;\n",
              "      div.appendChild(label);\n",
              "      const progress = document.createElement('progress');\n",
              "      progress.max = size;\n",
              "      div.appendChild(progress);\n",
              "      document.body.appendChild(div);\n",
              "\n",
              "      const buffers = [];\n",
              "      let downloaded = 0;\n",
              "\n",
              "      const channel = await google.colab.kernel.comms.open(id);\n",
              "      // Send a message to notify the kernel that we're ready.\n",
              "      channel.send({})\n",
              "\n",
              "      for await (const message of channel.messages) {\n",
              "        // Send a message to notify the kernel that we're ready.\n",
              "        channel.send({})\n",
              "        if (message.buffers) {\n",
              "          for (const buffer of message.buffers) {\n",
              "            buffers.push(buffer);\n",
              "            downloaded += buffer.byteLength;\n",
              "            progress.value = downloaded;\n",
              "          }\n",
              "        }\n",
              "      }\n",
              "      const blob = new Blob(buffers, {type: 'application/binary'});\n",
              "      const a = document.createElement('a');\n",
              "      a.href = window.URL.createObjectURL(blob);\n",
              "      a.download = filename;\n",
              "      div.appendChild(a);\n",
              "      a.click();\n",
              "      div.remove();\n",
              "    }\n",
              "  "
            ],
            "text/plain": [
              "<IPython.core.display.Javascript object>"
            ]
          },
          "metadata": {
            "tags": []
          }
        },
        {
          "output_type": "display_data",
          "data": {
            "application/javascript": [
              "download(\"download_684cde80-ebcf-462f-a7f4-b826bd76bbdb\", \"Postal_codes_final.csv\", 8315)"
            ],
            "text/plain": [
              "<IPython.core.display.Javascript object>"
            ]
          },
          "metadata": {
            "tags": []
          }
        }
      ]
    },
    {
      "cell_type": "markdown",
      "metadata": {
        "id": "qgU_PUVhDunu",
        "colab_type": "text"
      },
      "source": [
        "**Checking the final shape**"
      ]
    },
    {
      "cell_type": "code",
      "metadata": {
        "id": "sjgWv_jaD3_V",
        "colab_type": "code",
        "colab": {
          "base_uri": "https://localhost:8080/",
          "height": 34
        },
        "outputId": "18363441-f17e-4ecd-e601-45df7ccccb39"
      },
      "source": [
        "DF.shape"
      ],
      "execution_count": 156,
      "outputs": [
        {
          "output_type": "execute_result",
          "data": {
            "text/plain": [
              "(103, 5)"
            ]
          },
          "metadata": {
            "tags": []
          },
          "execution_count": 156
        }
      ]
    },
    {
      "cell_type": "code",
      "metadata": {
        "id": "THEod6swD5iN",
        "colab_type": "code",
        "colab": {}
      },
      "source": [
        ""
      ],
      "execution_count": null,
      "outputs": []
    }
  ]
}